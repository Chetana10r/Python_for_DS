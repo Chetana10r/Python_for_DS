{
 "cells": [
  {
   "cell_type": "markdown",
   "metadata": {},
   "source": [
    "Removing HTML Tags"
   ]
  },
  {
   "cell_type": "code",
   "execution_count": 32,
   "metadata": {},
   "outputs": [],
   "source": [
    "import pandas as pd\n",
    "from bs4 import BeautifulSoup"
   ]
  },
  {
   "cell_type": "code",
   "execution_count": 33,
   "metadata": {},
   "outputs": [
    {
     "name": "stderr",
     "output_type": "stream",
     "text": [
      "<>:1: SyntaxWarning: invalid escape sequence '\\w'\n",
      "<>:1: SyntaxWarning: invalid escape sequence '\\w'\n",
      "C:\\Users\\cheta\\AppData\\Local\\Temp\\ipykernel_4564\\2564587749.py:1: SyntaxWarning: invalid escape sequence '\\w'\n",
      "  sample_text='''<!DOCTYPE html>\n"
     ]
    }
   ],
   "source": [
    "sample_text='''<!DOCTYPE html>\n",
    "<html lang=\"en\">\n",
    "<head>\n",
    "    <meta charset=\"UTF-8\">\n",
    "    <meta name=\"viewport\" content=\"width=device-width, initial-scale=1.0\">\n",
    "    <title>Text Preprocessing</title>\n",
    "    <style>\n",
    "        body {\n",
    "            font-family: Arial, sans-serif;\n",
    "            margin: 20px;\n",
    "        }\n",
    "        textarea {\n",
    "            width: 100%;\n",
    "            height: 100px;\n",
    "            margin-bottom: 10px;\n",
    "            padding: 10px;\n",
    "            font-size: 16px;\n",
    "        }\n",
    "        button {\n",
    "            padding: 10px 20px;\n",
    "            margin: 5px;\n",
    "            font-size: 16px;\n",
    "            cursor: pointer;\n",
    "        }\n",
    "        p {\n",
    "            margin-top: 10px;\n",
    "            font-size: 18px;\n",
    "        }\n",
    "    </style>\n",
    "</head>\n",
    "<body>\n",
    "\n",
    "    <h2>Text Preprocessing</h2>\n",
    "    <textarea id=\"inputText\" placeholder=\"Enter your text here...\"></textarea><br>\n",
    "    <button onclick=\"preprocessText()\">Preprocess Text</button>\n",
    "    <p>Processed Text:</p>\n",
    "    <p id=\"processedText\"></p>\n",
    "\n",
    "    <script>\n",
    "        function preprocessText() {\n",
    "            let text = document.getElementById(\"inputText\").value;\n",
    "\n",
    "            // Convert to lowercase\n",
    "            text = text.toLowerCase();\n",
    "\n",
    "            // Remove punctuation\n",
    "            text = text.replace(/[^\\w\\s]/g, \"\");\n",
    "\n",
    "            // Remove extra spaces\n",
    "            text = text.replace(/\\s+/g, \" \").trim();\n",
    "\n",
    "            document.getElementById(\"processedText\").textContent = text;\n",
    "        }\n",
    "    </script>\n",
    "\n",
    "</body>\n",
    "</html>'''"
   ]
  },
  {
   "cell_type": "code",
   "execution_count": 34,
   "metadata": {},
   "outputs": [
    {
     "name": "stdout",
     "output_type": "stream",
     "text": [
      "Welcome to Python Programming\n"
     ]
    }
   ],
   "source": [
    "import re\n",
    "\n",
    "#sample string with HTML tags\n",
    "\n",
    "s1=\"<h1>Welcome to Python Programming</h1>\"\n",
    "\n",
    "#REmoving HTML tags from the string using regular expression\n",
    "\n",
    "s2=re.sub(r\"<.*?>\", \"\", s1)\n",
    "print(s2)"
   ]
  },
  {
   "cell_type": "code",
   "execution_count": 35,
   "metadata": {},
   "outputs": [
    {
     "name": "stdout",
     "output_type": "stream",
     "text": [
      "\n",
      "\n",
      "\n",
      "    \n",
      "    \n",
      "    Text Preprocessing\n",
      "    \n",
      "        body {\n",
      "            font-family: Arial, sans-serif;\n",
      "            margin: 20px;\n",
      "        }\n",
      "        textarea {\n",
      "            width: 100%;\n",
      "            height: 100px;\n",
      "            margin-bottom: 10px;\n",
      "            padding: 10px;\n",
      "            font-size: 16px;\n",
      "        }\n",
      "        button {\n",
      "            padding: 10px 20px;\n",
      "            margin: 5px;\n",
      "            font-size: 16px;\n",
      "            cursor: pointer;\n",
      "        }\n",
      "        p {\n",
      "            margin-top: 10px;\n",
      "            font-size: 18px;\n",
      "        }\n",
      "    \n",
      "\n",
      "\n",
      "\n",
      "    Text Preprocessing\n",
      "    \n",
      "    Preprocess Text\n",
      "    Processed Text:\n",
      "    \n",
      "\n",
      "    \n",
      "        function preprocessText() {\n",
      "            let text = document.getElementById(\"inputText\").value;\n",
      "\n",
      "            // Convert to lowercase\n",
      "            text = text.toLowerCase();\n",
      "\n",
      "            // Remove punctuation\n",
      "            text = text.replace(/[^\\w\\s]/g, \"\");\n",
      "\n",
      "            // Remove extra spaces\n",
      "            text = text.replace(/\\s+/g, \" \").trim();\n",
      "\n",
      "            document.getElementById(\"processedText\").textContent = text;\n",
      "        }\n",
      "    \n",
      "\n",
      "\n",
      "\n"
     ]
    }
   ],
   "source": [
    "s2=re.sub(r\"<.*?>\", \"\", sample_text)\n",
    "print(s2)"
   ]
  },
  {
   "cell_type": "markdown",
   "metadata": {},
   "source": [
    "Using BeautifulSoup"
   ]
  },
  {
   "cell_type": "code",
   "execution_count": 36,
   "metadata": {},
   "outputs": [
    {
     "name": "stdout",
     "output_type": "stream",
     "text": [
      "Welcome to Python Programming\n"
     ]
    }
   ],
   "source": [
    "from bs4 import BeautifulSoup\n",
    "\n",
    "#Sample String with HTML tags\n",
    "s1=\"<h1>Welcome to <b>Python Programming</b></h1>\"\n",
    "\n",
    "#Removing HTML tagss using BeautifulSoup\n",
    "\n",
    "soup=BeautifulSoup(s1,\"html.parser\")\n",
    "s2=soup.get_text()\n",
    "print(s2)"
   ]
  },
  {
   "cell_type": "markdown",
   "metadata": {},
   "source": [
    "Spell Check"
   ]
  },
  {
   "cell_type": "code",
   "execution_count": 37,
   "metadata": {},
   "outputs": [
    {
     "data": {
      "text/plain": [
       "TextBlob(\"certain conditions during several generation\")"
      ]
     },
     "execution_count": 37,
     "metadata": {},
     "output_type": "execute_result"
    }
   ],
   "source": [
    "incorrect=\"certain connditions durin several generating\"\n",
    "from textblob import TextBlob\n",
    "text=TextBlob(incorrect)\n",
    "text.correct()"
   ]
  },
  {
   "cell_type": "markdown",
   "metadata": {},
   "source": [
    "NLTK"
   ]
  },
  {
   "cell_type": "code",
   "execution_count": 38,
   "metadata": {},
   "outputs": [],
   "source": [
    "from nltk.tokenize import sent_tokenize,word_tokenize"
   ]
  },
  {
   "cell_type": "code",
   "execution_count": 39,
   "metadata": {},
   "outputs": [
    {
     "name": "stderr",
     "output_type": "stream",
     "text": [
      "[nltk_data] Downloading package punkt_tab to\n",
      "[nltk_data]     C:\\Users\\cheta\\AppData\\Roaming\\nltk_data...\n",
      "[nltk_data]   Package punkt_tab is already up-to-date!\n"
     ]
    },
    {
     "data": {
      "text/plain": [
       "True"
      ]
     },
     "execution_count": 39,
     "metadata": {},
     "output_type": "execute_result"
    }
   ],
   "source": [
    "import nltk\n",
    "nltk.download('punkt_tab') #to avoid punctuation mark error"
   ]
  },
  {
   "cell_type": "code",
   "execution_count": 40,
   "metadata": {},
   "outputs": [
    {
     "data": {
      "text/plain": [
       "['Track your progress with the free \"My Learning\" program here at W3Schools.',\n",
       " 'Log in to your account, and start earning points!This is an optional feature.',\n",
       " 'You can study at W3Schools without using My Learning.']"
      ]
     },
     "execution_count": 40,
     "metadata": {},
     "output_type": "execute_result"
    }
   ],
   "source": [
    "data2='''Track your progress with the free \"My Learning\" program here at W3Schools. Log in to your account, and start earning points!This is an optional feature. You can study at W3Schools without using My Learning.'''\n",
    "s1=sent_tokenize(data2)\n",
    "s1"
   ]
  },
  {
   "cell_type": "markdown",
   "metadata": {},
   "source": [
    "Seperating sentence into words"
   ]
  },
  {
   "cell_type": "code",
   "execution_count": 41,
   "metadata": {},
   "outputs": [
    {
     "name": "stdout",
     "output_type": "stream",
     "text": [
      "['Track', 'your', 'progress', 'with', 'the', 'free', '``', 'My', 'Learning', \"''\", 'program', 'here', 'at', 'W3Schools', '.']\n",
      "['Log', 'in', 'to', 'your', 'account', ',', 'and', 'start', 'earning', 'points', '!', 'This', 'is', 'an', 'optional', 'feature', '.']\n",
      "['You', 'can', 'study', 'at', 'W3Schools', 'without', 'using', 'My', 'Learning', '.']\n"
     ]
    }
   ],
   "source": [
    "for w in s1:\n",
    "    print(word_tokenize(w))"
   ]
  },
  {
   "cell_type": "markdown",
   "metadata": {},
   "source": [
    "Using IMDB Dataset"
   ]
  },
  {
   "cell_type": "code",
   "execution_count": 42,
   "metadata": {},
   "outputs": [
    {
     "data": {
      "text/html": [
       "<div>\n",
       "<style scoped>\n",
       "    .dataframe tbody tr th:only-of-type {\n",
       "        vertical-align: middle;\n",
       "    }\n",
       "\n",
       "    .dataframe tbody tr th {\n",
       "        vertical-align: top;\n",
       "    }\n",
       "\n",
       "    .dataframe thead th {\n",
       "        text-align: right;\n",
       "    }\n",
       "</style>\n",
       "<table border=\"1\" class=\"dataframe\">\n",
       "  <thead>\n",
       "    <tr style=\"text-align: right;\">\n",
       "      <th></th>\n",
       "      <th>review</th>\n",
       "      <th>sentiment</th>\n",
       "    </tr>\n",
       "  </thead>\n",
       "  <tbody>\n",
       "    <tr>\n",
       "      <th>0</th>\n",
       "      <td>One of the other reviewers has mentioned that ...</td>\n",
       "      <td>positive</td>\n",
       "    </tr>\n",
       "    <tr>\n",
       "      <th>1</th>\n",
       "      <td>A wonderful little production. &lt;br /&gt;&lt;br /&gt;The...</td>\n",
       "      <td>positive</td>\n",
       "    </tr>\n",
       "    <tr>\n",
       "      <th>2</th>\n",
       "      <td>I thought this was a wonderful way to spend ti...</td>\n",
       "      <td>positive</td>\n",
       "    </tr>\n",
       "    <tr>\n",
       "      <th>3</th>\n",
       "      <td>Basically there's a family where a little boy ...</td>\n",
       "      <td>negative</td>\n",
       "    </tr>\n",
       "    <tr>\n",
       "      <th>4</th>\n",
       "      <td>Petter Mattei's \"Love in the Time of Money\" is...</td>\n",
       "      <td>positive</td>\n",
       "    </tr>\n",
       "  </tbody>\n",
       "</table>\n",
       "</div>"
      ],
      "text/plain": [
       "                                              review sentiment\n",
       "0  One of the other reviewers has mentioned that ...  positive\n",
       "1  A wonderful little production. <br /><br />The...  positive\n",
       "2  I thought this was a wonderful way to spend ti...  positive\n",
       "3  Basically there's a family where a little boy ...  negative\n",
       "4  Petter Mattei's \"Love in the Time of Money\" is...  positive"
      ]
     },
     "execution_count": 42,
     "metadata": {},
     "output_type": "execute_result"
    }
   ],
   "source": [
    "import pandas as pd\n",
    "df=pd.read_csv(\"IMDB Dataset.csv\")\n",
    "df.head()"
   ]
  },
  {
   "cell_type": "markdown",
   "metadata": {},
   "source": [
    "Lowercasing"
   ]
  },
  {
   "cell_type": "code",
   "execution_count": 43,
   "metadata": {},
   "outputs": [
    {
     "data": {
      "text/plain": [
       "\"Basically there's a family where a little boy (Jake) thinks there's a zombie in his closet & his parents are fighting all the time.<br /><br />This movie is slower than a soap opera... and suddenly, Jake decides to become Rambo and kill the zombie.<br /><br />OK, first of all when you're going to make a film you must Decide if its a thriller or a drama! As a drama the movie is watchable. Parents are divorcing & arguing like in real life. And then we have Jake with his closet which totally ruins all the film! I expected to see a BOOGEYMAN similar movie, and instead i watched a drama with some meaningless thriller spots.<br /><br />3 out of 10 just for the well playing parents & descent dialogs. As for the shots with Jake: just ignore them.\""
      ]
     },
     "execution_count": 43,
     "metadata": {},
     "output_type": "execute_result"
    }
   ],
   "source": [
    "str=df['review'][3]\n",
    "str"
   ]
  },
  {
   "cell_type": "code",
   "execution_count": 44,
   "metadata": {},
   "outputs": [
    {
     "data": {
      "text/plain": [
       "0    one of the other reviewers has mentioned that ...\n",
       "1    a wonderful little production. <br /><br />the...\n",
       "2    i thought this was a wonderful way to spend ti...\n",
       "3    basically there's a family where a little boy ...\n",
       "4    petter mattei's \"love in the time of money\" is...\n",
       "Name: review, dtype: object"
      ]
     },
     "execution_count": 44,
     "metadata": {},
     "output_type": "execute_result"
    }
   ],
   "source": [
    "str=df['review'].str\n",
    "str.lower().head()"
   ]
  },
  {
   "cell_type": "markdown",
   "metadata": {},
   "source": [
    "REMOVING HTML TAGS FROM THE TEXT"
   ]
  },
  {
   "cell_type": "code",
   "execution_count": 45,
   "metadata": {},
   "outputs": [],
   "source": [
    "import re\n",
    "def remove_html_tags(text):\n",
    "    pattern=re.compile('<.*?>')\n",
    "    return pattern.sub(r'',text)"
   ]
  },
  {
   "cell_type": "code",
   "execution_count": 46,
   "metadata": {},
   "outputs": [],
   "source": [
    "text=\"<html> <head><title>Text Preprocessing</title><style>\""
   ]
  },
  {
   "cell_type": "code",
   "execution_count": 47,
   "metadata": {},
   "outputs": [
    {
     "data": {
      "text/plain": [
       "' Text Preprocessing'"
      ]
     },
     "execution_count": 47,
     "metadata": {},
     "output_type": "execute_result"
    }
   ],
   "source": [
    "remove_html_tags(text)"
   ]
  },
  {
   "cell_type": "markdown",
   "metadata": {},
   "source": [
    "Removing Punctuations"
   ]
  },
  {
   "cell_type": "code",
   "execution_count": 48,
   "metadata": {},
   "outputs": [
    {
     "data": {
      "text/plain": [
       "'!\"#$%&\\'()*+,-./:;<=>?@[\\\\]^_`{|}~'"
      ]
     },
     "execution_count": 48,
     "metadata": {},
     "output_type": "execute_result"
    }
   ],
   "source": [
    "import string\n",
    "string.punctuation"
   ]
  },
  {
   "cell_type": "code",
   "execution_count": 49,
   "metadata": {},
   "outputs": [],
   "source": [
    "exclude=string.punctuation"
   ]
  },
  {
   "cell_type": "code",
   "execution_count": 50,
   "metadata": {},
   "outputs": [],
   "source": [
    "def remove_punc(text):\n",
    "    for char in exclude:\n",
    "        text=text.replace(char,\"\")\n",
    "    return text"
   ]
  },
  {
   "cell_type": "code",
   "execution_count": 51,
   "metadata": {},
   "outputs": [
    {
     "data": {
      "text/plain": [
       "'This is a good movie'"
      ]
     },
     "execution_count": 51,
     "metadata": {},
     "output_type": "execute_result"
    }
   ],
   "source": [
    "remove_punc(\"This is :a good <movie!!!\")"
   ]
  }
 ],
 "metadata": {
  "kernelspec": {
   "display_name": "base",
   "language": "python",
   "name": "python3"
  },
  "language_info": {
   "codemirror_mode": {
    "name": "ipython",
    "version": 3
   },
   "file_extension": ".py",
   "mimetype": "text/x-python",
   "name": "python",
   "nbconvert_exporter": "python",
   "pygments_lexer": "ipython3",
   "version": "3.12.7"
  }
 },
 "nbformat": 4,
 "nbformat_minor": 2
}
