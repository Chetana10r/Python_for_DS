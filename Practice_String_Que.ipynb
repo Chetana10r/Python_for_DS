{
 "cells": [
  {
   "cell_type": "markdown",
   "metadata": {},
   "source": [
    "Exercise 1A: Create a string made of the first,middle and last character"
   ]
  },
  {
   "cell_type": "code",
   "execution_count": 20,
   "metadata": {},
   "outputs": [
    {
     "name": "stdout",
     "output_type": "stream",
     "text": [
      "Phn\n"
     ]
    }
   ],
   "source": [
    "# Exercise 1A: First, middle, and last character\n",
    "def first_middle_last(s):\n",
    "    return s[0] + s[len(s) // 2] + s[-1]\n",
    "\n",
    "print(first_middle_last(\"Python\"))  # Output: Pth\n"
   ]
  },
  {
   "cell_type": "markdown",
   "metadata": {},
   "source": [
    "Exercise 1B: Create a string made of the middle three characters"
   ]
  },
  {
   "cell_type": "code",
   "execution_count": 21,
   "metadata": {},
   "outputs": [
    {
     "name": "stdout",
     "output_type": "stream",
     "text": [
      "cde\n"
     ]
    }
   ],
   "source": [
    "def middle_three(s):\n",
    "    mid = len(s) // 2\n",
    "    return s[mid - 1:mid + 2]\n",
    "\n",
    "print(middle_three(\"abcdefg\"))  # Output: cde"
   ]
  },
  {
   "cell_type": "markdown",
   "metadata": {},
   "source": [
    "Exercise 2: Append new string in the middle of a given string"
   ]
  },
  {
   "cell_type": "code",
   "execution_count": 22,
   "metadata": {},
   "outputs": [
    {
     "name": "stdout",
     "output_type": "stream",
     "text": [
      "Pyt123hon\n"
     ]
    }
   ],
   "source": [
    "def append_middle(s1, s2):\n",
    "    mid = len(s1) // 2\n",
    "    return s1[:mid] + s2 + s1[mid:]\n",
    "\n",
    "# Example usage\n",
    "print(append_middle(\"Python\", \"123\"))  # Output: \"Py123thon\"\n"
   ]
  },
  {
   "cell_type": "markdown",
   "metadata": {},
   "source": [
    "Exercise 3: Create a new string made of the first,middle, and last characters of each input string."
   ]
  },
  {
   "cell_type": "code",
   "execution_count": 23,
   "metadata": {},
   "outputs": [
    {
     "name": "stdout",
     "output_type": "stream",
     "text": [
      "PhnPgm\n"
     ]
    }
   ],
   "source": [
    "def mix_strings(s1, s2):\n",
    "    return s1[0] + s1[len(s1) // 2] + s1[-1] + s2[0] + s2[len(s2) // 2] + s2[-1]\n",
    "\n",
    "# Example usage\n",
    "print(mix_strings(\"Python\", \"Program\"))  # Output: \"PthPrm\"\n"
   ]
  },
  {
   "cell_type": "markdown",
   "metadata": {},
   "source": [
    "Exercise 4: Arrange string characters such that lowercase letters should come first."
   ]
  },
  {
   "cell_type": "code",
   "execution_count": 24,
   "metadata": {},
   "outputs": [
    {
     "name": "stdout",
     "output_type": "stream",
     "text": [
      "yhnPTO\n"
     ]
    }
   ],
   "source": [
    "# Exercise 4: Arrange string characters so that lowercase letters come first\n",
    "def arrange_string(s):\n",
    "    lower = \"\".join([char for char in s if char.islower()])\n",
    "    upper = \"\".join([char for char in s if char.isupper()])\n",
    "    return lower + upper\n",
    "\n",
    "print(arrange_string(\"PyThOn\"))  # Output: yhnPTO"
   ]
  },
  {
   "cell_type": "markdown",
   "metadata": {},
   "source": [
    "Exercise 5: Count all letters,digits, and special symbols from a given string."
   ]
  },
  {
   "cell_type": "code",
   "execution_count": 25,
   "metadata": {},
   "outputs": [
    {
     "name": "stdout",
     "output_type": "stream",
     "text": [
      "(5, 3, 2)\n"
     ]
    }
   ],
   "source": [
    "\n",
    "# Exercise 5: Count letters, digits, and special symbols\n",
    "def count_elements(s):\n",
    "    letters = sum(c.isalpha() for c in s)\n",
    "    digits = sum(c.isdigit() for c in s)\n",
    "    special = len(s) - letters - digits\n",
    "    return letters, digits, special\n",
    "\n",
    "print(count_elements(\"Hello123@#\"))  # Output: (5, 3, 2)"
   ]
  },
  {
   "cell_type": "markdown",
   "metadata": {},
   "source": [
    "Exercise 6: Create a mixed string using the following rules"
   ]
  },
  {
   "cell_type": "code",
   "execution_count": 26,
   "metadata": {},
   "outputs": [
    {
     "name": "stdout",
     "output_type": "stream",
     "text": [
      "azbycx\n"
     ]
    }
   ],
   "source": [
    "# Exercise 6: Mix two strings by taking one character from each\n",
    "def mix_strings(s1, s2):\n",
    "    s2 = s2[::-1]  \n",
    "    return \"\".join(a + b for a, b in zip(s1, s2))\n",
    "\n",
    "print(mix_strings(\"abc\", \"xyz\"))  # Output: axbycz"
   ]
  },
  {
   "cell_type": "markdown",
   "metadata": {},
   "source": [
    "Exercise 7: String characters balance Test"
   ]
  },
  {
   "cell_type": "code",
   "execution_count": 27,
   "metadata": {},
   "outputs": [
    {
     "name": "stdout",
     "output_type": "stream",
     "text": [
      "True\n"
     ]
    }
   ],
   "source": [
    "# Exercise 7: Check if all chars of s1 are in s2\n",
    "def balance_test(s1, s2):\n",
    "    return all(c in s2 for c in s1)\n",
    "\n",
    "print(balance_test(\"abc\", \"cbadef\"))  # Output: True"
   ]
  },
  {
   "cell_type": "markdown",
   "metadata": {},
   "source": [
    "Exercise 8: Find all occurrences of a substring in a given string ignoring the case."
   ]
  },
  {
   "cell_type": "code",
   "execution_count": 28,
   "metadata": {},
   "outputs": [
    {
     "name": "stdout",
     "output_type": "stream",
     "text": [
      "[0, 6]\n"
     ]
    }
   ],
   "source": [
    "# Exercise 8: Find all occurrences of a substring (ignore case)\n",
    "def find_substring(s, sub):\n",
    "    return [i for i in range(len(s)) if s.lower().startswith(sub.lower(), i)]\n",
    "\n",
    "print(find_substring(\"Hello hello\", \"hello\"))  # Output: [0, 6]"
   ]
  },
  {
   "cell_type": "markdown",
   "metadata": {},
   "source": [
    "Exercise 9: Calculate the sum and average of the digits present in a string."
   ]
  },
  {
   "cell_type": "code",
   "execution_count": 29,
   "metadata": {},
   "outputs": [
    {
     "name": "stdout",
     "output_type": "stream",
     "text": [
      "(10, 2.5)\n"
     ]
    }
   ],
   "source": [
    "# Exercise 9: Sum and average of digits in a string\n",
    "def sum_avg_digits(s):\n",
    "    digits = [int(c) for c in s if c.isdigit()]\n",
    "    return sum(digits), sum(digits) / len(digits) if digits else 0\n",
    "\n",
    "print(sum_avg_digits(\"abc1234\"))  # Output: (10, 2.5)"
   ]
  },
  {
   "cell_type": "markdown",
   "metadata": {},
   "source": [
    "Exercise 10: Write a program to count occurrences of all characters within a string."
   ]
  },
  {
   "cell_type": "code",
   "execution_count": 30,
   "metadata": {},
   "outputs": [
    {
     "name": "stdout",
     "output_type": "stream",
     "text": [
      "{'h': 1, 'o': 1, 'l': 2, 'e': 1}\n"
     ]
    }
   ],
   "source": [
    "# Exercise 10: Count occurrences of all characters\n",
    "def char_count(s):\n",
    "    return {c: s.count(c) for c in set(s)}\n",
    "\n",
    "print(char_count(\"hello\"))  # Output: {'h': 1, 'e': 1, 'l': 2, 'o': 1}"
   ]
  },
  {
   "cell_type": "markdown",
   "metadata": {},
   "source": [
    "Exercise 11: Reverse a string."
   ]
  },
  {
   "cell_type": "code",
   "execution_count": 31,
   "metadata": {},
   "outputs": [
    {
     "name": "stdout",
     "output_type": "stream",
     "text": [
      "nohtyP\n"
     ]
    }
   ],
   "source": [
    "# Exercise 11: Reverse a string\n",
    "def reverse_string(s):\n",
    "    return s[::-1]\n",
    "\n",
    "print(reverse_string(\"Python\"))  # Output: nohtyP"
   ]
  },
  {
   "cell_type": "markdown",
   "metadata": {},
   "source": [
    "Exercise 12: Find the last position of a given substring."
   ]
  },
  {
   "cell_type": "code",
   "execution_count": 32,
   "metadata": {},
   "outputs": [
    {
     "name": "stdout",
     "output_type": "stream",
     "text": [
      "12\n"
     ]
    }
   ],
   "source": [
    "# Exercise 12: Find the last position of a substring\n",
    "def last_position(s, sub):\n",
    "    return s.rfind(sub)\n",
    "\n",
    "print(last_position(\"Hello world hello\", \"hello\"))  # Output: 12"
   ]
  },
  {
   "cell_type": "markdown",
   "metadata": {},
   "source": [
    "Exercise 13: Split a string on hyphens."
   ]
  },
  {
   "cell_type": "code",
   "execution_count": 33,
   "metadata": {},
   "outputs": [
    {
     "name": "stdout",
     "output_type": "stream",
     "text": [
      "['abc', 'def', 'ghi']\n"
     ]
    }
   ],
   "source": [
    "# Exercise 13: Split a string on hyphens\n",
    "print(\"abc-def-ghi\".split(\"-\"))  # Output: ['abc', 'def', 'ghi']"
   ]
  },
  {
   "cell_type": "markdown",
   "metadata": {},
   "source": [
    "Exercise 14: Remove empty strings from a list of strings."
   ]
  },
  {
   "cell_type": "code",
   "execution_count": 34,
   "metadata": {},
   "outputs": [
    {
     "name": "stdout",
     "output_type": "stream",
     "text": [
      "['hello', 'world', 'python']\n"
     ]
    }
   ],
   "source": [
    "# Exercise 14: Remove empty strings from a list\n",
    "print([s for s in [\"hello\", \"\", \"world\", \"\", \"python\"] if s])  # Output: ['hello', 'world', 'python']"
   ]
  },
  {
   "cell_type": "markdown",
   "metadata": {},
   "source": [
    "Exercise 15: Remove special symbols/punctuation from a string."
   ]
  },
  {
   "cell_type": "code",
   "execution_count": 35,
   "metadata": {},
   "outputs": [
    {
     "name": "stdout",
     "output_type": "stream",
     "text": [
      "Hello World\n"
     ]
    }
   ],
   "source": [
    "# Exercise 15: Remove special symbols/punctuation\n",
    "def remove_special(s):\n",
    "    return \"\".join(c for c in s if c.isalnum() or c.isspace())\n",
    "\n",
    "print(remove_special(\"Hello@# World!!\"))  # Output: \"Hello World\""
   ]
  },
  {
   "cell_type": "markdown",
   "metadata": {},
   "source": [
    "Exercise 16: Removal all characters from a string except integers."
   ]
  },
  {
   "cell_type": "code",
   "execution_count": 36,
   "metadata": {},
   "outputs": [
    {
     "name": "stdout",
     "output_type": "stream",
     "text": [
      "3002024\n"
     ]
    }
   ],
   "source": [
    "# Exercise 16: Keep only numbers\n",
    "print(\"\".join(c for c in \"H3ll0 W0rld! 2024\" if c.isdigit()))  # Output: \"302024\""
   ]
  },
  {
   "cell_type": "markdown",
   "metadata": {},
   "source": [
    "Exercise 17: Find words with both alphabets and numbers."
   ]
  },
  {
   "cell_type": "code",
   "execution_count": 37,
   "metadata": {},
   "outputs": [
    {
     "name": "stdout",
     "output_type": "stream",
     "text": [
      "['ab12', 'xy9']\n"
     ]
    }
   ],
   "source": [
    "# Exercise 17: Find words with letters and numbers\n",
    "def words_with_alnum(s):\n",
    "    return [w for w in s.split() if any(c.isalpha() for c in w) and any(c.isdigit() for c in w)]\n",
    "\n",
    "print(words_with_alnum(\"abc 123 ab12 xy9\"))  # Output: ['ab12', 'xy9']\n"
   ]
  },
  {
   "cell_type": "markdown",
   "metadata": {},
   "source": [
    "Exercise 18: Replace each special symbol with # in the following string."
   ]
  },
  {
   "cell_type": "code",
   "execution_count": 38,
   "metadata": {},
   "outputs": [
    {
     "name": "stdout",
     "output_type": "stream",
     "text": [
      "Hello#World#\n"
     ]
    }
   ],
   "source": [
    "# Exercise 18: Replace special characters with #\n",
    "def replace_special(s):\n",
    "    return \"\".join(c if c.isalnum() else \"#\" for c in s)\n",
    "\n",
    "print(replace_special(\"Hello@World!\"))  # Output: Hello#World#"
   ]
  }
 ],
 "metadata": {
  "kernelspec": {
   "display_name": "Python 3",
   "language": "python",
   "name": "python3"
  },
  "language_info": {
   "codemirror_mode": {
    "name": "ipython",
    "version": 3
   },
   "file_extension": ".py",
   "mimetype": "text/x-python",
   "name": "python",
   "nbconvert_exporter": "python",
   "pygments_lexer": "ipython3",
   "version": "3.13.1"
  }
 },
 "nbformat": 4,
 "nbformat_minor": 2
}
