{
 "cells": [
  {
   "cell_type": "code",
   "execution_count": 41,
   "id": "59b4b0b1",
   "metadata": {},
   "outputs": [
    {
     "name": "stdout",
     "output_type": "stream",
     "text": [
      "List in Python:  [1, 2, 3, 4, 5]\n",
      "Numpy array in python:  [1 2 3 4 5]\n"
     ]
    }
   ],
   "source": [
    "#Python for Data Science\n",
    "#1-D array\n",
    "\n",
    "import numpy as np\n",
    "list=[1,2,3,4,5]\n",
    "sample_array=np.array(list)\n",
    "print(\"List in Python: \",list)\n",
    "print(\"Numpy array in python: \",sample_array)"
   ]
  },
  {
   "cell_type": "code",
   "execution_count": 42,
   "id": "06525e28",
   "metadata": {},
   "outputs": [
    {
     "name": "stdout",
     "output_type": "stream",
     "text": [
      "[[ 1  2  3  3]\n",
      " [ 4  5  5  6]\n",
      " [ 7  8  9 10]]\n"
     ]
    }
   ],
   "source": [
    "#2-D array\n",
    "\n",
    "arr=np.array([[1,2,3,3],[4,5,5,6],[7,8,9,10]])\n",
    "print(arr)"
   ]
  },
  {
   "cell_type": "code",
   "execution_count": 43,
   "id": "954c9874",
   "metadata": {},
   "outputs": [
    {
     "name": "stdout",
     "output_type": "stream",
     "text": [
      "Accessing the elements:  [1 2 3 4 5]\n",
      "Single element:  1\n",
      "Range of elements:  [1 2]\n",
      "Range with step count:  [1 3 5]\n",
      "Modifying array:  [2 2 3 4 5]\n"
     ]
    }
   ],
   "source": [
    "#Slicing and Indexing\n",
    "\n",
    "import numpy as np\n",
    "list=[1,2,3,4,5]\n",
    "l1=np.array(list)\n",
    "print(\"Accessing the elements: \",l1)\n",
    "\n",
    "print(\"Single element: \",l1[0])\n",
    "\n",
    "print(\"Range of elements: \",l1[0:2])\n",
    "\n",
    "print(\"Range with step count: \",l1[::2])\n",
    "\n",
    "l1[0]=2\n",
    "print(\"Modifying array: \",l1)"
   ]
  },
  {
   "cell_type": "code",
   "execution_count": 44,
   "id": "88ef2dae",
   "metadata": {},
   "outputs": [
    {
     "name": "stdout",
     "output_type": "stream",
     "text": [
      "Accessing the elements: \n",
      " [[1 2]\n",
      " [3 4]\n",
      " [5 6]]\n",
      "Single element:  [1 2] 2\n",
      "Range of elements: \n",
      " [[1 2]\n",
      " [3 4]]\n",
      "Range with step count: \n",
      " [[1 2]\n",
      " [5 6]]\n",
      "Modifying array: \n",
      " [[4 5]\n",
      " [3 4]\n",
      " [5 6]]\n"
     ]
    }
   ],
   "source": [
    "list2=[[1,2],[3,4],[5,6]]\n",
    "l2=np.array(list2)\n",
    "print(\"Accessing the elements: \\n\",l2)\n",
    "\n",
    "print(\"Single element: \",l2[0],l2[0,1])\n",
    "\n",
    "print(\"Range of elements: \\n\",l2[0:2])\n",
    "\n",
    "print(\"Range with step count: \\n\",l2[::2])\n",
    "\n",
    "l2[0]=[4,5]\n",
    "print(\"Modifying array: \\n\",l2)"
   ]
  },
  {
   "cell_type": "code",
   "execution_count": 45,
   "id": "83c82c6e",
   "metadata": {},
   "outputs": [
    {
     "data": {
      "text/plain": [
       "array([[1, 2],\n",
       "       [3, 4]])"
      ]
     },
     "execution_count": 45,
     "metadata": {},
     "output_type": "execute_result"
    }
   ],
   "source": [
    "l2=np.array([[1,2],[3,4]])\n",
    "l2"
   ]
  },
  {
   "cell_type": "code",
   "execution_count": 46,
   "id": "08573048",
   "metadata": {},
   "outputs": [
    {
     "name": "stdout",
     "output_type": "stream",
     "text": [
      "[[1 2 3 4]\n",
      " [5 6 7 8]]\n",
      "Shape of array: (2, 4)\n"
     ]
    }
   ],
   "source": [
    "#Reshaping\n",
    "\n",
    "arr=np.array([[1,2,3,4],[5,6,7,8]])\n",
    "print(arr)\n",
    "print(\"Shape of array:\" ,arr.shape)"
   ]
  },
  {
   "cell_type": "code",
   "execution_count": 47,
   "id": "e28c6188",
   "metadata": {},
   "outputs": [
    {
     "name": "stdout",
     "output_type": "stream",
     "text": [
      "[[ 1  2  3]\n",
      " [ 4  5  6]\n",
      " [ 7  8  9]\n",
      " [10 11 12]]\n"
     ]
    }
   ],
   "source": [
    "#Reshape from 1-D to 2-D\n",
    "\n",
    "arr=np.array([1,2,3,4,5,6,7,8,9,10,11,12])\n",
    "newarr=arr.reshape(4,3)\n",
    "print(newarr)"
   ]
  },
  {
   "cell_type": "code",
   "execution_count": 48,
   "id": "7e0eea91",
   "metadata": {},
   "outputs": [
    {
     "name": "stdout",
     "output_type": "stream",
     "text": [
      "[[[ 1  2]\n",
      "  [ 3  4]\n",
      "  [ 5  6]]\n",
      "\n",
      " [[ 7  8]\n",
      "  [ 9 10]\n",
      "  [11 12]]]\n"
     ]
    }
   ],
   "source": [
    "#Reshape from 1-D to 3-D\n",
    "\n",
    "arr=np.array([1,2,3,4,5,6,7,8,9,10,11,12])\n",
    "newarr=arr.reshape(2,3,2)\n",
    "print(newarr)"
   ]
  },
  {
   "cell_type": "code",
   "execution_count": 49,
   "id": "649bec8a",
   "metadata": {},
   "outputs": [
    {
     "name": "stdout",
     "output_type": "stream",
     "text": [
      "[[[ 1  2  3]\n",
      "  [ 4  5  6]]\n",
      "\n",
      " [[ 7  8  9]\n",
      "  [10 11 12]]]\n"
     ]
    }
   ],
   "source": [
    "arr=np.array([1,2,3,4,5,6,7,8,9,10,11,12])\n",
    "newarr=arr.reshape(2,2,3)\n",
    "print(newarr)"
   ]
  },
  {
   "cell_type": "code",
   "execution_count": 50,
   "id": "67c36e05",
   "metadata": {},
   "outputs": [
    {
     "name": "stdout",
     "output_type": "stream",
     "text": [
      "[[[ 1]\n",
      "  [ 2]]\n",
      "\n",
      " [[ 3]\n",
      "  [ 4]]\n",
      "\n",
      " [[ 5]\n",
      "  [ 6]]\n",
      "\n",
      " [[ 7]\n",
      "  [ 8]]\n",
      "\n",
      " [[ 9]\n",
      "  [10]]\n",
      "\n",
      " [[11]\n",
      "  [12]]]\n"
     ]
    }
   ],
   "source": [
    "arr=np.array([1,2,3,4,5,6,7,8,9,10,11,12])\n",
    "newarr=arr.reshape(6,2,1) #6blocks,2rows,1columns\n",
    "print(newarr)"
   ]
  },
  {
   "cell_type": "code",
   "execution_count": 51,
   "id": "7c6eb0ff",
   "metadata": {},
   "outputs": [
    {
     "name": "stdout",
     "output_type": "stream",
     "text": [
      "[[[1 2 3]\n",
      "  [4 5 6]]\n",
      "\n",
      " [[1 2 3]\n",
      "  [4 5 6]]]\n",
      "Reshaping the array: \n",
      " [1 2 3 4 5 6 1 2 3 4 5 6]\n"
     ]
    }
   ],
   "source": [
    "#Flattening the arrays: \n",
    "\n",
    "import numpy as np\n",
    "arr=np.array([[[1,2,3],[4,5,6]],[[1,2,3],[4,5,6]]])\n",
    "print(arr)\n",
    "newarr=arr.reshape(-1)\n",
    "print(\"Reshaping the array: \\n\",newarr)"
   ]
  },
  {
   "cell_type": "code",
   "execution_count": 52,
   "id": "e6fd482d",
   "metadata": {},
   "outputs": [
    {
     "data": {
      "text/plain": [
       "array([0, 1, 3, 3, 4])"
      ]
     },
     "execution_count": 52,
     "metadata": {},
     "output_type": "execute_result"
    }
   ],
   "source": [
    "#Inbuilt functions\n",
    "\n",
    "#sort()\n",
    "\n",
    "a=np.array([1,3,3,4,0])\n",
    "\n",
    "np.sort(a)\n"
   ]
  },
  {
   "cell_type": "code",
   "execution_count": 53,
   "id": "5573fba3",
   "metadata": {},
   "outputs": [
    {
     "data": {
      "text/plain": [
       "array([1, 2, 3, 4, 3, 2, 3, 4])"
      ]
     },
     "execution_count": 53,
     "metadata": {},
     "output_type": "execute_result"
    }
   ],
   "source": [
    "a=np.array([1,2,3,4])\n",
    "b=np.array([3,2,3,4])\n",
    "np.concatenate((a,b))\n"
   ]
  },
  {
   "cell_type": "code",
   "execution_count": 54,
   "id": "7de3690d",
   "metadata": {},
   "outputs": [
    {
     "name": "stdout",
     "output_type": "stream",
     "text": [
      "[0 0 0 0 0 0 0 0 0 0]\n",
      "[(0., 0) (0., 0)]\n"
     ]
    }
   ],
   "source": [
    "import numpy as np\n",
    "\n",
    "a=np.zeros(10,dtype=int)\n",
    "print(a)\n",
    "b = np.zeros((2,), dtype=[('x', 'float'), ('y', 'int')])\n",
    "print(b)\n"
   ]
  },
  {
   "cell_type": "code",
   "execution_count": 55,
   "id": "39f10803",
   "metadata": {},
   "outputs": [
    {
     "data": {
      "text/plain": [
       "array([0, 0, 0, 0, 0, 0, 0, 0, 0, 0, 7])"
      ]
     },
     "execution_count": 55,
     "metadata": {},
     "output_type": "execute_result"
    }
   ],
   "source": [
    "a=np.append(a,[7])\n",
    "a"
   ]
  },
  {
   "cell_type": "code",
   "execution_count": 56,
   "id": "cbae9283",
   "metadata": {},
   "outputs": [
    {
     "name": "stdout",
     "output_type": "stream",
     "text": [
      "(array([3]),)\n"
     ]
    }
   ],
   "source": [
    "#search\n",
    "\n",
    "import numpy as np\n",
    "\n",
    "arr=np.array([1,2,3,4])\n",
    "x=np.where(arr==4) #use for searching an element\n",
    "print(x)\n"
   ]
  },
  {
   "cell_type": "code",
   "execution_count": 57,
   "id": "ea6cdab2",
   "metadata": {},
   "outputs": [
    {
     "name": "stdout",
     "output_type": "stream",
     "text": [
      "10\n"
     ]
    }
   ],
   "source": [
    "#sum()\n",
    "print(np.sum(arr))"
   ]
  },
  {
   "cell_type": "code",
   "execution_count": 58,
   "id": "979e0565",
   "metadata": {},
   "outputs": [
    {
     "name": "stdout",
     "output_type": "stream",
     "text": [
      "[10 26 42]\n"
     ]
    }
   ],
   "source": [
    "\n",
    "import numpy as np\n",
    "arr=np.array([[1,2,3,4],[5,6,7,8],[9,10,11,12]])\n",
    "\n",
    "res=arr.sum(axis = 1)\n",
    "print(res)\n"
   ]
  },
  {
   "cell_type": "code",
   "execution_count": 59,
   "id": "81d8752e",
   "metadata": {},
   "outputs": [
    {
     "data": {
      "text/plain": [
       "array([0, 1, 2])"
      ]
     },
     "execution_count": 59,
     "metadata": {},
     "output_type": "execute_result"
    }
   ],
   "source": [
    "#arrange\n",
    "\n",
    "np.arange(3)"
   ]
  },
  {
   "cell_type": "code",
   "execution_count": 60,
   "id": "800f29ff",
   "metadata": {},
   "outputs": [
    {
     "name": "stdout",
     "output_type": "stream",
     "text": [
      "\n",
      "\n",
      "Sum row-wise:  [ 6 66 15 27 90]\n"
     ]
    }
   ],
   "source": [
    "import numpy as np\n",
    "array = np.array([[1, 2, 3],[11, 22, 33],[4, 5, 6], [8, 9, 10], [20, 30, 40]])\n",
    "\n",
    "# calculating sum along axis=1 i.e row0wise\n",
    "output = array.sum(axis = 1)\n",
    "print(\"\\n\\nSum row-wise: \", output)\n"
   ]
  },
  {
   "cell_type": "code",
   "execution_count": 61,
   "id": "74bc6943",
   "metadata": {},
   "outputs": [
    {
     "name": "stdout",
     "output_type": "stream",
     "text": [
      "\n",
      "\n",
      "Sum row-wise:  [44 68 92]\n"
     ]
    }
   ],
   "source": [
    "import numpy as np\n",
    "array = np.array([[1, 2, 3],[11, 22, 33],[4, 5, 6], [8, 9, 10], [20, 30, 40]])\n",
    "\n",
    "# calculating sum along axis=0 i.e column0wise\n",
    "output = array.sum(axis = 0)\n",
    "print(\"\\n\\nSum row-wise: \", output)"
   ]
  },
  {
   "cell_type": "markdown",
   "id": "97ee27b7",
   "metadata": {},
   "source": [
    "Arithmetic Functions"
   ]
  },
  {
   "cell_type": "code",
   "execution_count": 62,
   "id": "bf6df861",
   "metadata": {},
   "outputs": [
    {
     "name": "stdout",
     "output_type": "stream",
     "text": [
      "[30 32 34 36 38 40]\n"
     ]
    }
   ],
   "source": [
    "arr1=np.array([10,11,12,13,14,15])\n",
    "arr2=np.array([20,21,22,23,24,25])\n",
    "\n",
    "newarr=np.add(arr1,arr2)\n",
    "\n",
    "print(newarr)"
   ]
  },
  {
   "cell_type": "code",
   "execution_count": 63,
   "id": "4ccee5bc",
   "metadata": {},
   "outputs": [
    {
     "name": "stdout",
     "output_type": "stream",
     "text": [
      "[  16  243 4096]\n"
     ]
    }
   ],
   "source": [
    "#power of numbers where array two elements are powers for array one elements..\n",
    "import numpy as np\n",
    "a1=np.array([2,3,4])\n",
    "b1=np.array([4,5,6])\n",
    "c1=np.power(a1,b1)\n",
    "print(c1)"
   ]
  },
  {
   "cell_type": "code",
   "execution_count": 64,
   "id": "16bab9de",
   "metadata": {},
   "outputs": [
    {
     "data": {
      "text/plain": [
       "array([1.41421356, 2.23606798, 3.        ])"
      ]
     },
     "execution_count": 64,
     "metadata": {},
     "output_type": "execute_result"
    }
   ],
   "source": [
    "#sqrt-square root\n",
    "arr1=([2,5,9])\n",
    "a=np.sqrt(arr1)\n",
    "a"
   ]
  },
  {
   "cell_type": "code",
   "execution_count": 65,
   "id": "760969ed",
   "metadata": {},
   "outputs": [
    {
     "name": "stdout",
     "output_type": "stream",
     "text": [
      "\n",
      "Additon :  [29 27 25 23 21 19 17 15]\n",
      "\n",
      "Subtraction :  [-11 -11 -11 -11 -11 -11 -11 -11]\n",
      "\n",
      " Multiplication :  [180 152 126 102  80  60  42  26]\n",
      "\n",
      " Division :  [0.45       0.42105263 0.38888889 0.35294118 0.3125     0.26666667\n",
      " 0.21428571 0.15384615]\n"
     ]
    }
   ],
   "source": [
    "import numpy as np\n",
    "\n",
    "arr1=([9,8,7,6,5,4,3,2])\n",
    "arr2=([20,19,18,17,16,15,14,13])\n",
    "\n",
    "addi=np.add(arr1,arr2)\n",
    "print('\\nAdditon : ',addi)\n",
    "\n",
    "subt=np.subtract(arr1,arr2)\n",
    "print('\\nSubtraction : ',subt)\n",
    "\n",
    "multi=np.multiply(arr1,arr2)\n",
    "print('\\n Multiplication : ',multi)\n",
    "\n",
    "div=np.divide(arr1,arr2)\n",
    "print('\\n Division : ',div)"
   ]
  },
  {
   "cell_type": "code",
   "execution_count": 66,
   "id": "43a66888",
   "metadata": {},
   "outputs": [
    {
     "name": "stdout",
     "output_type": "stream",
     "text": [
      "[5 7 9]\n",
      "[-3 -3 -3]\n",
      "[ 4 10 18]\n",
      "[0.25 0.4  0.5 ]\n"
     ]
    }
   ],
   "source": [
    "new_arr=([1,2,3])\n",
    "new_arr2=([4,5,6])\n",
    "#new_arr3=([7,8,9])\n",
    "\n",
    "print(np.add(new_arr,new_arr2))\n",
    "print(np.subtract(new_arr,new_arr2))\n",
    "print(np.multiply(new_arr,new_arr2))\n",
    "print(np.divide(new_arr,new_arr2))"
   ]
  },
  {
   "cell_type": "code",
   "execution_count": 67,
   "id": "c5c6f103",
   "metadata": {},
   "outputs": [
    {
     "name": "stdout",
     "output_type": "stream",
     "text": [
      "Additon of 3 x 3 :\n",
      " [[ 5  7  9]\n",
      " [11 13 15]\n",
      " [ 8 10 12]]\n",
      "\n",
      "Subtraction of 3 x 3 : \n",
      " [[-3 -3 -3]\n",
      " [-3 -3 -3]\n",
      " [ 6  6  6]]\n",
      "\n",
      "Multiply of 3 x 3 : \n",
      " [[ 4 10 18]\n",
      " [28 40 54]\n",
      " [ 7 16 27]]\n",
      "\n",
      "Division of 3 x 3 : \n",
      " [[0.25       0.4        0.5       ]\n",
      " [0.57142857 0.625      0.66666667]\n",
      " [7.         4.         3.        ]]\n"
     ]
    }
   ],
   "source": [
    "#Arithmetic Functions on 3 x 3 matrix \n",
    "\n",
    "arr_new=([[1,2,3],[4,5,6],[7,8,9]])\n",
    "new_arr=([[4,5,6],[7,8,9],[1,2,3]])\n",
    "print('Additon of 3 x 3 :\\n',np.add(arr_new,new_arr))\n",
    "print('\\nSubtraction of 3 x 3 : \\n',np.subtract(arr_new,new_arr))\n",
    "print('\\nMultiply of 3 x 3 : \\n',np.multiply(arr_new,new_arr))\n",
    "print('\\nDivision of 3 x 3 : \\n',np.divide(arr_new,new_arr))"
   ]
  },
  {
   "cell_type": "code",
   "execution_count": 68,
   "id": "ebfe23fd",
   "metadata": {},
   "outputs": [
    {
     "name": "stdout",
     "output_type": "stream",
     "text": [
      "[[9]]\n",
      "[[24]]\n",
      "[[48]]\n"
     ]
    }
   ],
   "source": [
    "array=([[1,2,3],[4,5,6],[7,8,9]])\n",
    "\n",
    "for i in range(len(array)):\n",
    "    x+=np.sum(array[i])\n",
    "    print(x)"
   ]
  },
  {
   "cell_type": "markdown",
   "id": "3e93748f",
   "metadata": {},
   "source": [
    "Statistical Function"
   ]
  },
  {
   "cell_type": "code",
   "execution_count": 69,
   "id": "45ffc638",
   "metadata": {},
   "outputs": [
    {
     "name": "stdout",
     "output_type": "stream",
     "text": [
      "1\n",
      "6\n",
      "5\n",
      "1.15\n",
      "3.5\n",
      "3.5\n",
      "1.707825127659933\n",
      "2.9166666666666665\n"
     ]
    }
   ],
   "source": [
    "arr=np.array([1,2,3,4,5,6])\n",
    "\n",
    "a=np.amin(arr)\n",
    "print(a)\n",
    "\n",
    "b=np.amax(arr)\n",
    "print(b)\n",
    "\n",
    "c=np.ptp(arr)\n",
    "print(c)\n",
    "\n",
    "d=np.percentile(arr,3)\n",
    "print(d)\n",
    "\n",
    "e=np.median(arr)\n",
    "print(e)\n",
    "\n",
    "f=np.mean(arr)\n",
    "print(f)\n",
    "\n",
    "g=np.std(arr)\n",
    "print(g)\n",
    "\n",
    "h=np.var(arr)\n",
    "print(h)"
   ]
  },
  {
   "cell_type": "markdown",
   "id": "f6086cf9",
   "metadata": {},
   "source": [
    "Universal Function"
   ]
  },
  {
   "cell_type": "code",
   "execution_count": 70,
   "id": "d75111da",
   "metadata": {},
   "outputs": [
    {
     "name": "stdout",
     "output_type": "stream",
     "text": [
      "[6 8 10 12]\n"
     ]
    }
   ],
   "source": [
    "# Creation of user defined 'universal functions'\n",
    "\n",
    "import numpy as np\n",
    "\n",
    "def myunif(x,y):\n",
    "    return x+y\n",
    "\n",
    "myunif=np.frompyfunc(myunif,2,1) #myunif=array name, 2=no of i/p, 1= no of o/p \n",
    "\n",
    "#frompyfunc used to add the user-defined function as universal function in Numpy Library.. \n",
    "\n",
    "print(myunif([1,2,3,4],[5,6,7,8]))"
   ]
  },
  {
   "cell_type": "code",
   "execution_count": 71,
   "id": "a13ba4cd",
   "metadata": {},
   "outputs": [
    {
     "name": "stdout",
     "output_type": "stream",
     "text": [
      "512\n",
      "<class 'numpy.ufunc'>\n"
     ]
    }
   ],
   "source": [
    "# Create your own ufunc pow() having two arguments. Calculate second no as power of first.\n",
    "import numpy as np\n",
    "\n",
    "def pov(x,y):\n",
    "    return x**y\n",
    "\n",
    "pov=np.frompyfunc(pov,2,1)\n",
    "print(pov(8,3))\n",
    "\n",
    "dtype=type(pov)\n",
    "print(dtype)"
   ]
  },
  {
   "cell_type": "code",
   "execution_count": 72,
   "id": "8adcd471",
   "metadata": {},
   "outputs": [
    {
     "name": "stdout",
     "output_type": "stream",
     "text": [
      "12\n",
      "None\n",
      "<class 'numpy.ufunc'>\n"
     ]
    }
   ],
   "source": [
    "# Create your own uni. function having one argument and display factorial\n",
    "\n",
    "import numpy as np\n",
    "\n",
    "def fact(x):\n",
    "    for i in range(x):\n",
    "        a=x*i\n",
    "    print(a)\n",
    "fact=np.frompyfunc(fact,1,1)\n",
    "print(fact(4))\n",
    "\n",
    "data_type=type(fact)\n",
    "print(data_type)"
   ]
  },
  {
   "cell_type": "code",
   "execution_count": 73,
   "id": "76c46aa4",
   "metadata": {},
   "outputs": [
    {
     "name": "stdout",
     "output_type": "stream",
     "text": [
      "False\n",
      "False\n",
      "[1]\n",
      "[2 3]\n",
      "False\n"
     ]
    }
   ],
   "source": [
    "#Computation on Arrays-broadcasting, comparisons, Fancy indexing etc.\n",
    "\n",
    "#comparison using '=='sign or array_equal(a,b)\n",
    "\n",
    "import numpy as np\n",
    "a=np.array([1,2,3])\n",
    "b=np.array([2,3,4])\n",
    "c=np.array([7,8])\n",
    "\n",
    "print(np.array_equal(a,b))\n",
    "print(np.array_equal(a,c))\n",
    "\n",
    "print(np.setdiff1d(a,b))\n",
    "print(np.intersect1d(a,b))\n",
    "print(np.array_equiv(np.sort(a),np.sort(b)))\n",
    "\n",
    "#array_equiv and array_equal have same functions.."
   ]
  },
  {
   "cell_type": "code",
   "execution_count": 74,
   "id": "483521c1",
   "metadata": {},
   "outputs": [
    {
     "name": "stdout",
     "output_type": "stream",
     "text": [
      "False\n",
      "True\n"
     ]
    }
   ],
   "source": [
    "a=np.array([1,2,3])\n",
    "b=np.array([[1,2,3],[1,2,3]])\n",
    "print(np.array_equal(a,b))\n",
    "print(np.array_equiv(np.sort(a),np.sort(b)))"
   ]
  },
  {
   "cell_type": "code",
   "execution_count": 75,
   "id": "58cae192",
   "metadata": {},
   "outputs": [
    {
     "name": "stdout",
     "output_type": "stream",
     "text": [
      "\n",
      " Matrix A: \n",
      " [[1 2 3 4]\n",
      " [5 6 7 8]\n",
      " [4 7 3 9]]\n",
      "\n",
      " Matrix B:  [2 4 6 7]\n",
      "\n",
      "Addition: \n",
      " [[ 3  6  9 11]\n",
      " [ 7 10 13 15]\n",
      " [ 6 11  9 16]]\n"
     ]
    }
   ],
   "source": [
    "#Broadcasting\n",
    "\n",
    "import numpy as np\n",
    "\n",
    "a=np.array([[1,2,3,4],[5,6,7,8],[4,7,3,9]])\n",
    "b=np.array([2,4,6,7])\n",
    "\n",
    "print(\"\\n Matrix A: \\n\",a)\n",
    "\n",
    "print(\"\\n Matrix B: \",b)\n",
    "\n",
    "c=a+b;\n",
    "print(\"\\nAddition: \\n\",c)"
   ]
  },
  {
   "cell_type": "code",
   "execution_count": 76,
   "id": "eab61756",
   "metadata": {},
   "outputs": [
    {
     "name": "stdout",
     "output_type": "stream",
     "text": [
      "[2 3 6 8]\n"
     ]
    }
   ],
   "source": [
    "#Fancy Indexing\n",
    "\n",
    "import numpy as np\n",
    "array1=np.array([1,2,3,4,5,6,7,8,9])\n",
    "\n",
    "select_elements=array1[[1,2,5,7]]\n",
    "print(select_elements)"
   ]
  },
  {
   "cell_type": "code",
   "execution_count": 77,
   "id": "8d117016",
   "metadata": {},
   "outputs": [
    {
     "name": "stdout",
     "output_type": "stream",
     "text": [
      "[ 3 10  6 20  8  5 30  4]\n"
     ]
    }
   ],
   "source": [
    "#Fancy indexing to assign new values to specific elements\n",
    "\n",
    "import numpy as np\n",
    "array1=np.array([3,2,6,1,8,5,7,4])\n",
    "indices=[1,3,6]\n",
    "new_values=[10,20,30]\n",
    "array1[indices]=new_values\n",
    "print(array1)\n"
   ]
  },
  {
   "cell_type": "markdown",
   "id": "e3c17c92",
   "metadata": {},
   "source": [
    "Practice Questions\n"
   ]
  },
  {
   "cell_type": "markdown",
   "id": "eaca726d",
   "metadata": {},
   "source": [
    "1.Write a program to add all the elements of 1D array."
   ]
  },
  {
   "cell_type": "code",
   "execution_count": 7,
   "id": "4ad415f2",
   "metadata": {},
   "outputs": [
    {
     "name": "stdout",
     "output_type": "stream",
     "text": [
      "Sum of all elements in the array: 15\n"
     ]
    }
   ],
   "source": [
    "import numpy as np\n",
    "\n",
    "# Create a 1D numpy array\n",
    "array = np.array([1, 2, 3, 4, 5])\n",
    "\n",
    "# Add all elements of the array\n",
    "total = np.sum(array)\n",
    "\n",
    "# Display the result\n",
    "print(\"Sum of all elements in the array:\", total)\n"
   ]
  },
  {
   "cell_type": "markdown",
   "id": "c7801ae6",
   "metadata": {},
   "source": [
    "2. Write a program to accept any element from the user and search it in the array. Also show the position of it."
   ]
  },
  {
   "cell_type": "code",
   "execution_count": 8,
   "id": "0a2c6cf3",
   "metadata": {},
   "outputs": [
    {
     "name": "stdout",
     "output_type": "stream",
     "text": [
      "Element 4 not found in the array.\n"
     ]
    }
   ],
   "source": [
    "import numpy as np\n",
    "\n",
    "# Create a numpy array\n",
    "array = np.array([10, 20, 30, 40, 50])\n",
    "\n",
    "# Accept an element from the user\n",
    "element = int(input(\"Enter the element to search: \"))\n",
    "\n",
    "# Search for the element and get its position\n",
    "position = np.where(array == element)\n",
    "\n",
    "# Check if the element is found\n",
    "if position[0].size > 0:\n",
    "    print(f\"Element {element} found at position(s): {position[0]}\")\n",
    "else:\n",
    "    print(f\"Element {element} not found in the array.\")\n"
   ]
  },
  {
   "cell_type": "markdown",
   "id": "1949540b",
   "metadata": {},
   "source": [
    "3. Write a program addition of two arrays."
   ]
  },
  {
   "cell_type": "code",
   "execution_count": 9,
   "id": "ad520b79",
   "metadata": {},
   "outputs": [
    {
     "name": "stdout",
     "output_type": "stream",
     "text": [
      "Sum of the two arrays: [6 6 6 6 6]\n"
     ]
    }
   ],
   "source": [
    "import numpy as np\n",
    "\n",
    "# Create two numpy arrays\n",
    "array1 = np.array([1, 2, 3, 4, 5])\n",
    "array2 = np.array([5, 4, 3, 2, 1])\n",
    "\n",
    "# Add the two arrays\n",
    "result = array1 + array2\n",
    "\n",
    "# Display the result\n",
    "print(\"Sum of the two arrays:\", result)\n"
   ]
  },
  {
   "cell_type": "markdown",
   "id": "9670d36e",
   "metadata": {},
   "source": [
    "4. Write a program to add multiple elements (Range) into existing array.\n"
   ]
  },
  {
   "cell_type": "code",
   "execution_count": 10,
   "id": "6738443b",
   "metadata": {},
   "outputs": [
    {
     "name": "stdout",
     "output_type": "stream",
     "text": [
      "Updated array: [ 1  2  3  4  5  6  7  8  9 10]\n"
     ]
    }
   ],
   "source": [
    "import numpy as np\n",
    "\n",
    "# Create an existing numpy array\n",
    "existing_array = np.array([1, 2, 3, 4, 5])\n",
    "\n",
    "# Define the range of elements to add (e.g., adding numbers from 6 to 10)\n",
    "new_elements = np.arange(6, 11)  # Generates numbers from 6 to 10\n",
    "\n",
    "# Add the new elements to the existing array\n",
    "updated_array = np.concatenate((existing_array, new_elements))\n",
    "\n",
    "# Display the updated array\n",
    "print(\"Updated array:\", updated_array)\n"
   ]
  },
  {
   "cell_type": "markdown",
   "id": "bf6b6d2b",
   "metadata": {},
   "source": [
    "5. Write a program a 1D array and display all negative numbers."
   ]
  },
  {
   "cell_type": "code",
   "execution_count": 11,
   "id": "f0791336",
   "metadata": {},
   "outputs": [
    {
     "name": "stdout",
     "output_type": "stream",
     "text": [
      "Negative numbers in the array: [-2 -4 -6 -8]\n"
     ]
    }
   ],
   "source": [
    "import numpy as np\n",
    "\n",
    "# Create a 1D numpy array\n",
    "array = np.array([1, -2, 3, -4, 5, -6, 7, -8, 9])\n",
    "\n",
    "# Display all negative numbers using boolean indexing\n",
    "negative_numbers = array[array < 0]\n",
    "\n",
    "# Display the result\n",
    "print(\"Negative numbers in the array:\", negative_numbers)\n"
   ]
  },
  {
   "cell_type": "markdown",
   "id": "386efeb3",
   "metadata": {},
   "source": [
    "6. Write a program to create 1D array and display the count of negative numbers, positive numbers and zeros in the array."
   ]
  },
  {
   "cell_type": "code",
   "execution_count": 6,
   "id": "6a657d9d",
   "metadata": {},
   "outputs": [
    {
     "name": "stdout",
     "output_type": "stream",
     "text": [
      "Negative numbers: 3\n",
      "Positive numbers: 4\n",
      "Zeroes: 3\n"
     ]
    }
   ],
   "source": [
    "import numpy as np\n",
    "\n",
    "# Create a 1D numpy array\n",
    "array = np.array([1, -2, 3, 0, -4, 5, 0, -6, 7, 0])\n",
    "\n",
    "# Count the negative, positive, and zero numbers\n",
    "negative_count = np.count_nonzero(array < 0)\n",
    "positive_count = np.count_nonzero(array > 0)\n",
    "zero_count = np.count_nonzero(array == 0)\n",
    "\n",
    "# Display the counts\n",
    "print(f\"Negative numbers: {negative_count}\")\n",
    "print(f\"Positive numbers: {positive_count}\")\n",
    "print(f\"Zeroes: {zero_count}\")\n"
   ]
  },
  {
   "cell_type": "markdown",
   "id": "ed92d91d",
   "metadata": {},
   "source": [
    "7. Write a program to display the smallest number in the array."
   ]
  },
  {
   "cell_type": "code",
   "execution_count": 12,
   "id": "9d4468c4",
   "metadata": {},
   "outputs": [
    {
     "name": "stdout",
     "output_type": "stream",
     "text": [
      "The smallest number in the array is: 2\n"
     ]
    }
   ],
   "source": [
    "import numpy as np\n",
    "\n",
    "# Create a 1D numpy array\n",
    "array = np.array([10, 2, 33, 4, 50, 6])\n",
    "\n",
    "# Find the smallest number in the array\n",
    "smallest_number = np.min(array)\n",
    "\n",
    "# Display the result\n",
    "print(\"The smallest number in the array is:\", smallest_number)\n"
   ]
  },
  {
   "cell_type": "markdown",
   "id": "fea094cd",
   "metadata": {},
   "source": [
    "8. Write a program to display even numbers in the given array."
   ]
  },
  {
   "cell_type": "code",
   "execution_count": 13,
   "id": "15871266",
   "metadata": {},
   "outputs": [
    {
     "name": "stdout",
     "output_type": "stream",
     "text": [
      "Even numbers in the array: [10 32 54 76 98]\n"
     ]
    }
   ],
   "source": [
    "import numpy as np\n",
    "\n",
    "# Create a 1D numpy array\n",
    "array = np.array([10, 21, 32, 43, 54, 65, 76, 87, 98])\n",
    "\n",
    "# Display even numbers using boolean indexing\n",
    "even_numbers = array[array % 2 == 0]\n",
    "\n",
    "# Display the result\n",
    "print(\"Even numbers in the array:\", even_numbers)\n"
   ]
  },
  {
   "cell_type": "markdown",
   "id": "e9c0cc2b",
   "metadata": {},
   "source": [
    "9. Sorting example"
   ]
  },
  {
   "cell_type": "code",
   "execution_count": 16,
   "id": "0663849a",
   "metadata": {},
   "outputs": [
    {
     "name": "stdout",
     "output_type": "stream",
     "text": [
      "[(b'Chetana', 2009, 8.5) (b'Pooja', 2019, 9.5) (b'Arya', 2010, 7.5)\n",
      " (b'Talat', 2009, 9.5)]\n",
      "\n",
      " Array sorted by names: \n",
      " [(b'Arya', 2010, 7.5) (b'Chetana', 2009, 8.5) (b'Pooja', 2019, 9.5)\n",
      " (b'Talat', 2009, 9.5)]\n",
      "\n",
      " Array sorted by graduation year and then cgpa: \n",
      " [(b'Chetana', 2009, 8.5) (b'Talat', 2009, 9.5) (b'Arya', 2010, 7.5)\n",
      " (b'Pooja', 2019, 9.5)]\n"
     ]
    }
   ],
   "source": [
    "import numpy as np\n",
    "\n",
    "#set alias names for dtypes\n",
    "\n",
    "dtypes= [('name','S10'),('grad_year',int),('cgpa',float)]\n",
    "\n",
    "#Values to be put in the array\n",
    "\n",
    "values=[('Chetana',2009,8.5),('Pooja',2019,9.5),('Arya',2010,7.5),('Talat',2009,9.5)]\n",
    "\n",
    "#Creating array\n",
    "\n",
    "arr= np.array(values,dtype=dtypes)\n",
    "print(arr)\n",
    "\n",
    "print(\"\\n Array sorted by names: \\n\", np.sort(arr,order='name'))\n",
    "\n",
    "print(\"\\n Array sorted by graduation year and then cgpa: \\n\", np.sort(arr,order=['grad_year','cgpa']))"
   ]
  }
 ],
 "metadata": {
  "kernelspec": {
   "display_name": "Python 3 (ipykernel)",
   "language": "python",
   "name": "python3"
  },
  "language_info": {
   "codemirror_mode": {
    "name": "ipython",
    "version": 3
   },
   "file_extension": ".py",
   "mimetype": "text/x-python",
   "name": "python",
   "nbconvert_exporter": "python",
   "pygments_lexer": "ipython3",
   "version": "3.12.4"
  }
 },
 "nbformat": 4,
 "nbformat_minor": 5
}
