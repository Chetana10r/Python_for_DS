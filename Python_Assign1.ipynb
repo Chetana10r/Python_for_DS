{
    "cells": [
        {
            "cell_type": "markdown",
            "metadata": {},
            "source": [
                "1. Program to find maximum value and minimum value from the given matrix"
            ]
        },
        {
            "cell_type": "code",
            "execution_count": 6,
            "metadata": {},
            "outputs": [
                {
                    "name": "stdout",
                    "output_type": "stream",
                    "text": [
                        "[[1 2 3]\n",
                        " [4 5 6]]\n",
                        "\n",
                        " The Minimum value in the array is:  1\n",
                        "\n",
                        " The Maximum value in the array is:  6\n"
                    ]
                }
            ],
            "source": [
                "import numpy as np\n",
                "\n",
                "arr=np.array([[1,2,3],[4,5,6]])\n",
                "print(arr)\n",
                "\n",
                "a=arr.min()\n",
                "print(\"\\n The Minimum value in the array is: \",a)\n",
                "\n",
                "\n",
                "b=arr.max()\n",
                "print(\"\\n The Maximum value in the array is: \",b)"
            ]
        },
        {
            "cell_type": "markdown",
            "metadata": {},
            "source": [
                "2. Program to perform following operations on the given matrix \n",
                "a. Find the number of rows and columns of a given matrix using NumPy\n",
                "b. Find the sum of values in a matrix"
            ]
        },
        {
            "cell_type": "code",
            "execution_count": 1,
            "metadata": {},
            "outputs": [
                {
                    "name": "stdout",
                    "output_type": "stream",
                    "text": [
                        "Number of rows: 3\n",
                        "Number of columns: 3\n",
                        "Sum of values in the matrix: 45\n"
                    ]
                }
            ],
            "source": [
                "import numpy as np\n",
                "\n",
                "# Sample matrix\n",
                "matrix = np.array([[1, 2, 3],[4, 5, 6],[7, 8, 9]])\n",
                "\n",
                "# a. Find the number of rows and columns of the given matrix\n",
                "rows, cols = matrix.shape\n",
                "print(f\"Number of rows: {rows}\")\n",
                "print(f\"Number of columns: {cols}\")\n",
                "\n",
                "# b. Find the sum of values in the matrix\n",
                "matrix_sum = np.sum(matrix)\n",
                "print(f\"Sum of values in the matrix: {matrix_sum}\")\n"
            ]
        },
        {
            "cell_type": "markdown",
            "metadata": {},
            "source": [
                "3. Program to perform following operations on 3x3 matrix:\n",
                "a. addition of two matrices\n",
                "b. Subtraction of two matrices\n",
                "c. Multiplication of two matrices"
            ]
        },
        {
            "cell_type": "code",
            "execution_count": 7,
            "metadata": {},
            "outputs": [
                {
                    "name": "stdout",
                    "output_type": "stream",
                    "text": [
                        "Addition of two matrices:\n",
                        "[[10 10 10]\n",
                        " [10 10 10]\n",
                        " [10 10 10]]\n",
                        "\n",
                        "Subtraction of two matrices:\n",
                        "[[-8 -6 -4]\n",
                        " [-2  0  2]\n",
                        " [ 4  6  8]]\n",
                        "\n",
                        "Matrix multiplication (row by column) in i, j form:\n",
                        "[[ 30  24  18]\n",
                        " [ 84  69  54]\n",
                        " [138 114  90]]\n"
                    ]
                }
            ],
            "source": [
                "import numpy as np\n",
                "\n",
                "# Define two 3x3 matrices\n",
                "matrix1 = np.array([[1, 2, 3],[4, 5, 6],[7, 8, 9]])\n",
                "\n",
                "matrix2 = np.array([[9, 8, 7],[6, 5, 4],[3, 2, 1]])\n",
                "\n",
                "result = np.zeros((3, 3), dtype=int)\n",
                "\n",
                "# a. Addition of two matrices\n",
                "addition_result = np.add(matrix1, matrix2)\n",
                "print(\"Addition of two matrices:\")\n",
                "print(addition_result)\n",
                "\n",
                "# b. Subtraction of two matrices\n",
                "subtraction_result = np.subtract(matrix1, matrix2)\n",
                "print(\"\\nSubtraction of two matrices:\")\n",
                "print(subtraction_result)\n",
                "\n",
                "# c. Multiplication of two matrices\n",
                "for i in range(3):  # Loop through rows of matrix1\n",
                "    for j in range(3):  # Loop through columns of matrix2\n",
                "        result[i][j] = 0  # Initialize the result element at position (i, j)\n",
                "        for k in range(3):  # Perform the dot product for each element\n",
                "            result[i][j] += matrix1[i][k] * matrix2[k][j]\n",
                "\n",
                "print(\"\\nMatrix multiplication (row by column) in i, j form:\")\n",
                "print(result)\n"
            ]
        },
        {
            "cell_type": "markdown",
            "metadata": {},
            "source": [
                "4. Program to perform following operations on 1D array\n",
                "a. Count the frequency of unique values in NumPy array?\n",
                "b. Convert the matrix into a list\n",
                "c. Replace negative value with zero in numpy array"
            ]
        },
        {
            "cell_type": "code",
            "execution_count": 13,
            "metadata": {},
            "outputs": [
                {
                    "name": "stdout",
                    "output_type": "stream",
                    "text": [
                        "Frequency of unique values: {-2: 3, 1: 2, 3: 1, 4: 1, 5: 1}\n",
                        "\n",
                        "Array converted to list: [1, -2, 3, -2, 4, 5, -2, 1]\n",
                        "\n",
                        "Array with negative values replaced by zero: [1 0 3 0 4 5 0 1]\n"
                    ]
                }
            ],
            "source": [
                "import numpy as np\n",
                "\n",
                "# Create a 1D NumPy array\n",
                "array = np.array([1, -2, 3, -2, 4, 5, -2, 1])\n",
                "\n",
                "# a. Count the frequency of unique values using np.unique()\n",
                "unique, counts = np.unique(array, return_counts=True)\n",
                "\n",
                "# Directly print the result as a dictionary\n",
                "frequency = dict(zip(unique.tolist(), counts.tolist()))  # Convert to list to avoid np.int64\n",
                "print(\"Frequency of unique values:\", frequency)\n",
                "\n",
                "# b. Convert the NumPy array into a list\n",
                "array_list = array.tolist()\n",
                "print(\"\\nArray converted to list:\", array_list)\n",
                "\n",
                "# c. Replace negative values with zero in the NumPy array\n",
                "array[array < 0] = 0\n",
                "print(\"\\nArray with negative values replaced by zero:\", array)\n"
            ]
        },
        {
            "cell_type": "markdown",
            "metadata": {},
            "source": [
                "5. Program to perform statistical operations on the given array.\n",
                "a. Compute the median of the flattened NumPy array\n",
                "b. Find Mean of Numpy Array\n",
                "c. Compute the variance of the NumPy array\n",
                "d. Compute the standard deviation of the NumPy array"
            ]
        },
        {
            "cell_type": "code",
            "execution_count": 14,
            "metadata": {},
            "outputs": [
                {
                    "name": "stdout",
                    "output_type": "stream",
                    "text": [
                        "Median of flattened array: 5.0\n",
                        "\n",
                        "Mean of the array: 5.0\n",
                        "\n",
                        "Variance of the array: 6.666666666666667\n",
                        "\n",
                        "Standard deviation of the array: 2.581988897471611\n"
                    ]
                }
            ],
            "source": [
                "import numpy as np\n",
                "\n",
                "# Create a NumPy array\n",
                "array = np.array([[1, 2, 3],[4, 5, 6],[7, 8, 9]])\n",
                "\n",
                "# a. Compute the median of the flattened NumPy array\n",
                "flattened_array = array.flatten()  # Flatten the array to 1D\n",
                "median_value = np.median(flattened_array)\n",
                "print(\"Median of flattened array:\", median_value)\n",
                "\n",
                "# b. Find the mean of the NumPy array\n",
                "mean_value = np.mean(array)\n",
                "print(\"\\nMean of the array:\", mean_value)\n",
                "\n",
                "# c. Compute the variance of the NumPy array\n",
                "variance_value = np.var(array)\n",
                "print(\"\\nVariance of the array:\", variance_value)\n",
                "\n",
                "# d. Compute the standard deviation of the NumPy array\n",
                "std_deviation_value = np.std(array)\n",
                "print(\"\\nStandard deviation of the array:\", std_deviation_value)\n"
            ]
        },
        {
            "cell_type": "markdown",
            "metadata": {},
            "source": [
                "6. Create a 5X2 integer array from a range between 100 to 200 such that the\n",
                "difference between each element is 10"
            ]
        },
        {
            "cell_type": "code",
            "execution_count": 18,
            "metadata": {},
            "outputs": [
                {
                    "name": "stdout",
                    "output_type": "stream",
                    "text": [
                        "5x2 array with values between 100 and 200, step 10:\n",
                        "[[100 110]\n",
                        " [120 130]\n",
                        " [140 150]\n",
                        " [160 170]\n",
                        " [180 190]]\n"
                    ]
                }
            ],
            "source": [
                "import numpy as np\n",
                "\n",
                "# Create a range from 100 to 200 with a step of 10, generating exactly 10 elements\n",
                "array = np.arange(100, 201, 10)[:10]  # Take the first 10 elements\n",
                "\n",
                "# Reshape the array to 5x2\n",
                "reshaped_array = array.reshape(5, 2)\n",
                "\n",
                "print(\"5x2 array with values between 100 and 200, step 10:\")\n",
                "print(reshaped_array)\n",
                "\n"
            ]
        },
        {
            "cell_type": "markdown",
            "metadata": {},
            "source": [
                "7. Following is the provided numPy array. Return array of item by taking\n",
                "the third column from all rows\n",
                "sampleArray = numpy.array([[11 ,22, 33], [44, 55, 66], [77, 88, 99]])\n",
                "output: [33 66 99"
            ]
        },
        {
            "cell_type": "code",
            "execution_count": 20,
            "metadata": {},
            "outputs": [
                {
                    "name": "stdout",
                    "output_type": "stream",
                    "text": [
                        "Third column from all rows: [33 66 99]\n"
                    ]
                }
            ],
            "source": [
                "import numpy as np\n",
                "\n",
                "# Provided NumPy array\n",
                "sampleArray = np.array([[11, 22, 33], [44, 55, 66], [77, 88, 99]])\n",
                "\n",
                "# Extract the third column (index 2) from all rows\n",
                "third_column = sampleArray[:, 2]\n",
                "\n",
                "print(\"Third column from all rows:\", third_column)\n"
            ]
        }
    ],
    "metadata": {
        "kernelspec": {
            "display_name": "Python 3",
            "language": "python",
            "name": "python3"
        },
        "language_info": {
            "codemirror_mode": {
                "name": "ipython",
                "version": 3
            },
            "file_extension": ".py",
            "mimetype": "text/x-python",
            "name": "python",
            "nbconvert_exporter": "python",
            "pygments_lexer": "ipython3",
            "version": "3.12.4"
        }
    },
    "nbformat": 4,
    "nbformat_minor": 2
}
