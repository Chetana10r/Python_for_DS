{
 "cells": [
  {
   "cell_type": "markdown",
   "metadata": {},
   "source": [
    "Data source-UCI adult dataset, also called as Census Income\n",
    "\n",
    "Link-UCI Machine Learning Repository: Adult Data Set\n",
    "\n",
    "Question-Predict whether income exceeds 550K/yr based on census\n",
    "\n"
   ]
  },
  {
   "cell_type": "markdown",
   "metadata": {},
   "source": [
    "1. Shape of database\n"
   ]
  },
  {
   "cell_type": "code",
   "execution_count": 164,
   "metadata": {},
   "outputs": [
    {
     "name": "stdout",
     "output_type": "stream",
     "text": [
      "       age workclass  fnlwgt     education  education.num      marital.status  \\\n",
      "0       90         ?   77053       HS-grad              9             Widowed   \n",
      "1       82   Private  132870       HS-grad              9             Widowed   \n",
      "2       66         ?  186061  Some-college             10             Widowed   \n",
      "3       54   Private  140359       7th-8th              4            Divorced   \n",
      "4       41   Private  264663  Some-college             10           Separated   \n",
      "...    ...       ...     ...           ...            ...                 ...   \n",
      "32556   22   Private  310152  Some-college             10       Never-married   \n",
      "32557   27   Private  257302    Assoc-acdm             12  Married-civ-spouse   \n",
      "32558   40   Private  154374       HS-grad              9  Married-civ-spouse   \n",
      "32559   58   Private  151910       HS-grad              9             Widowed   \n",
      "32560   22   Private  201490       HS-grad              9       Never-married   \n",
      "\n",
      "              occupation   relationship   race     sex  capital.gain  \\\n",
      "0                      ?  Not-in-family  White  Female             0   \n",
      "1        Exec-managerial  Not-in-family  White  Female             0   \n",
      "2                      ?      Unmarried  Black  Female             0   \n",
      "3      Machine-op-inspct      Unmarried  White  Female             0   \n",
      "4         Prof-specialty      Own-child  White  Female             0   \n",
      "...                  ...            ...    ...     ...           ...   \n",
      "32556    Protective-serv  Not-in-family  White    Male             0   \n",
      "32557       Tech-support           Wife  White  Female             0   \n",
      "32558  Machine-op-inspct        Husband  White    Male             0   \n",
      "32559       Adm-clerical      Unmarried  White  Female             0   \n",
      "32560       Adm-clerical      Own-child  White    Male             0   \n",
      "\n",
      "       capital.loss  hours.per.week native.country income  \n",
      "0              4356              40  United-States  <=50K  \n",
      "1              4356              18  United-States  <=50K  \n",
      "2              4356              40  United-States  <=50K  \n",
      "3              3900              40  United-States  <=50K  \n",
      "4              3900              40  United-States  <=50K  \n",
      "...             ...             ...            ...    ...  \n",
      "32556             0              40  United-States  <=50K  \n",
      "32557             0              38  United-States  <=50K  \n",
      "32558             0              40  United-States   >50K  \n",
      "32559             0              40  United-States  <=50K  \n",
      "32560             0              20  United-States  <=50K  \n",
      "\n",
      "[32561 rows x 15 columns]\n"
     ]
    }
   ],
   "source": [
    "import pandas as pd\n",
    "data=pd.read_csv(\"adult.csv\")\n",
    "print(data)"
   ]
  },
  {
   "cell_type": "code",
   "execution_count": 165,
   "metadata": {},
   "outputs": [
    {
     "name": "stdout",
     "output_type": "stream",
     "text": [
      "(32561, 15)\n"
     ]
    }
   ],
   "source": [
    "shape=data.shape\n",
    "print(shape)"
   ]
  },
  {
   "cell_type": "markdown",
   "metadata": {},
   "source": [
    "2. Print column names"
   ]
  },
  {
   "cell_type": "code",
   "execution_count": 166,
   "metadata": {},
   "outputs": [
    {
     "name": "stdout",
     "output_type": "stream",
     "text": [
      "['age', 'workclass', 'fnlwgt', 'education', 'education.num', 'marital.status', 'occupation', 'relationship', 'race', 'sex', 'capital.gain', 'capital.loss', 'hours.per.week', 'native.country', 'income']\n"
     ]
    }
   ],
   "source": [
    "columns = list(data.columns)\n",
    "print(columns)"
   ]
  },
  {
   "cell_type": "markdown",
   "metadata": {},
   "source": [
    "3. How many men and women (sex feature) are represented in this dataset.\n"
   ]
  },
  {
   "cell_type": "code",
   "execution_count": 167,
   "metadata": {},
   "outputs": [
    {
     "name": "stdout",
     "output_type": "stream",
     "text": [
      "The number of men and women represented in the dataset are:  sex\n",
      "Male      21790\n",
      "Female    10771\n",
      "Name: count, dtype: int64\n"
     ]
    }
   ],
   "source": [
    "gender_counts = data[\"sex\"].value_counts()\n",
    "print(\"The number of men and women represented in the dataset are: \",gender_counts)\n"
   ]
  },
  {
   "cell_type": "markdown",
   "metadata": {},
   "source": [
    "4. What is the average age (age feature) of women?\n"
   ]
  },
  {
   "cell_type": "code",
   "execution_count": 168,
   "metadata": {},
   "outputs": [
    {
     "name": "stdout",
     "output_type": "stream",
     "text": [
      "The average age of women: 36.85823043357163\n"
     ]
    }
   ],
   "source": [
    "average_age_women = data.loc[data[\"sex\"] == \"Female\", \"age\"].mean()\n",
    "print(\"The average age of women:\",average_age_women)"
   ]
  },
  {
   "cell_type": "markdown",
   "metadata": {},
   "source": [
    "5. What is the percentage of German citizens (native-country feature)?\n"
   ]
  },
  {
   "cell_type": "code",
   "execution_count": 169,
   "metadata": {},
   "outputs": [
    {
     "name": "stdout",
     "output_type": "stream",
     "text": [
      "The percentage of German Citizens:  137\n"
     ]
    }
   ],
   "source": [
    "german_citizens = data[\"native.country\"].value_counts().get(\"Germany\", 0)\n",
    "german_percentage = (german_citizens / len(data)) * 100\n",
    "print(\"The percentage of German Citizens: \",german_citizens)"
   ]
  },
  {
   "cell_type": "markdown",
   "metadata": {},
   "source": [
    "6. What are the mean and standard deviation of age for those who earn more than 50% per year (salary feature) and those who earn less than 50K per year?\n"
   ]
  },
  {
   "cell_type": "code",
   "execution_count": 170,
   "metadata": {},
   "outputs": [
    {
     "name": "stdout",
     "output_type": "stream",
     "text": [
      "Those earning more than 50k: \n",
      " mean    44.249841\n",
      "std     10.519028\n",
      "Name: age, dtype: float64\n",
      "\n",
      "Those earning more than 50k: \n",
      " mean    36.783738\n",
      "std     14.020088\n",
      "Name: age, dtype: float64\n"
     ]
    }
   ],
   "source": [
    "stats_earning_more_50k = data.loc[data[\"income\"] == \">50K\", \"age\"].agg([\"mean\", \"std\"])\n",
    "stats_earning_less_50k = data.loc[data[\"income\"] == \"<=50K\", \"age\"].agg([\"mean\", \"std\"])\n",
    "\n",
    "print(\"Those earning more than 50k: \\n\",stats_earning_more_50k)\n",
    "print(\"\\nThose earning more than 50k: \\n\",stats_earning_less_50k)\n"
   ]
  },
  {
   "cell_type": "markdown",
   "metadata": {},
   "source": [
    "7. Is it true that people who earn more than 50K have at least high school education? (education-Bachelors, Prof-school, Assoc-acdm, Assoc-voc, Masters or Doctorate feature)\n"
   ]
  },
  {
   "cell_type": "code",
   "execution_count": 171,
   "metadata": {},
   "outputs": [
    {
     "name": "stdout",
     "output_type": "stream",
     "text": [
      "All high earners have at least high school education:  False\n"
     ]
    }
   ],
   "source": [
    "high_earning_education = data.loc[data[\"income\"] == \">50K\", \"education\"]\n",
    "all_have_high_school = high_earning_education.isin(\n",
    "    [\"Bachelors\", \"Prof-school\", \"Assoc-acdm\", \"Assoc-voc\", \"Masters\", \"Doctorate\"]\n",
    ").all()\n",
    "\n",
    "print(\"All high earners have at least high school education: \", all_have_high_school)"
   ]
  },
  {
   "cell_type": "markdown",
   "metadata": {},
   "source": [
    "8. Display age statistics for each race (race feature) and each gender (sex feature) Use groupby() and describe(). Find the maximum age of men of Amer-Indian-Eskimo race.\n"
   ]
  },
  {
   "cell_type": "code",
   "execution_count": 172,
   "metadata": {},
   "outputs": [
    {
     "name": "stdout",
     "output_type": "stream",
     "text": [
      "Age stats by race and gender: \n",
      "                              count       mean        std   min   25%   50%  \\\n",
      "race               sex                                                       \n",
      "Amer-Indian-Eskimo Female    119.0  37.117647  13.114991  17.0  27.0  36.0   \n",
      "                   Male      192.0  37.208333  12.049563  17.0  28.0  35.0   \n",
      "Asian-Pac-Islander Female    346.0  35.089595  12.300845  17.0  25.0  33.0   \n",
      "                   Male      693.0  39.073593  12.883944  18.0  29.0  37.0   \n",
      "Black              Female   1555.0  37.854019  12.637197  17.0  28.0  37.0   \n",
      "                   Male     1569.0  37.682600  12.882612  17.0  27.0  36.0   \n",
      "Other              Female    109.0  31.678899  11.631599  17.0  23.0  29.0   \n",
      "                   Male      162.0  34.654321  11.355531  17.0  26.0  32.0   \n",
      "White              Female   8642.0  36.811618  14.329093  17.0  25.0  35.0   \n",
      "                   Male    19174.0  39.652498  13.436029  17.0  29.0  38.0   \n",
      "\n",
      "                             75%   max  \n",
      "race               sex                  \n",
      "Amer-Indian-Eskimo Female  46.00  80.0  \n",
      "                   Male    45.00  82.0  \n",
      "Asian-Pac-Islander Female  43.75  75.0  \n",
      "                   Male    46.00  90.0  \n",
      "Black              Female  46.00  90.0  \n",
      "                   Male    46.00  90.0  \n",
      "Other              Female  39.00  74.0  \n",
      "                   Male    42.00  77.0  \n",
      "White              Female  46.00  90.0  \n",
      "                   Male    49.00  90.0  \n",
      "\n",
      " Max age of Amer-Indian-Eskimo men:  82\n"
     ]
    }
   ],
   "source": [
    "age_stats = data.groupby([\"race\", \"sex\"])[\"age\"].describe()\n",
    "max_age_amer_indian_eskimo_men = data.loc[\n",
    "    (data[\"race\"] == \"Amer-Indian-Eskimo\") & (data[\"sex\"] == \"Male\"), \"age\"\n",
    "].max()\n",
    "\n",
    "print(\"Age stats by race and gender: \\n\", age_stats)\n",
    "print(\"\\n Max age of Amer-Indian-Eskimo men: \", max_age_amer_indian_eskimo_men)\n"
   ]
  },
  {
   "cell_type": "markdown",
   "metadata": {},
   "source": [
    "9. Among whom is the proportion of those who earn a lot (>50K) greater, married or single men (marital-status feature)?Consider as married those who have a (marital-status feature) ? Consider as married those who have a marital-status status starting with Married (Married-civ-spouse, Married-spouse-absent or Married-AF-spouse), the rest are considered bachelors.\n"
   ]
  },
  {
   "cell_type": "code",
   "execution_count": 173,
   "metadata": {},
   "outputs": [
    {
     "name": "stdout",
     "output_type": "stream",
     "text": [
      "Proportion of high earners (married men): 0.4405139945351156\n",
      "Proportion of high earners (single men): 0.08449509031397745\n"
     ]
    }
   ],
   "source": [
    "# Group people as 'Married' or 'Single' based on marital status\n",
    "data[\"marital_status_group\"] = data[\"marital.status\"].apply(\n",
    "    lambda x: \"Married\" if x.startswith(\"Married\") else \"Single\"\n",
    ")\n",
    "\n",
    "# Find all married and single men\n",
    "married_men = data[(data[\"sex\"] == \"Male\") & (data[\"marital_status_group\"] == \"Married\")]\n",
    "single_men = data[(data[\"sex\"] == \"Male\") & (data[\"marital_status_group\"] == \"Single\")]\n",
    "\n",
    "# Calculate proportion of high earners (>50K) for married men\n",
    "if married_men.shape[0] > 0:  # Check if there are any married men\n",
    "    married_high_earners = married_men[married_men[\"income\"] == \">50K\"].shape[0] / married_men.shape[0]\n",
    "else:\n",
    "    married_high_earners = 0\n",
    "\n",
    "# Calculate proportion of high earners (>50K) for single men\n",
    "if single_men.shape[0] > 0:  # Check if there are any single men\n",
    "    single_high_earners = single_men[single_men[\"income\"] == \">50K\"].shape[0] / single_men.shape[0]\n",
    "else:\n",
    "    single_high_earners = 0\n",
    "\n",
    "# Print the results\n",
    "print(\"Proportion of high earners (married men):\", married_high_earners)\n",
    "print(\"Proportion of high earners (single men):\", single_high_earners)"
   ]
  },
  {
   "cell_type": "markdown",
   "metadata": {},
   "source": [
    "10. What is the maximum number of hours a person works per week (hours-per-week feature)? How many people work such a number of hours, and what is the percentage of those who earn a lot (>50K) among them?"
   ]
  },
  {
   "cell_type": "code",
   "execution_count": 174,
   "metadata": {},
   "outputs": [
    {
     "name": "stdout",
     "output_type": "stream",
     "text": [
      "Max hours per week:  99\n",
      "Number of people working max hours:  85\n",
      "Percentage of high earners among them:  29.411764705882355\n"
     ]
    }
   ],
   "source": [
    "max_hours = data[\"hours.per.week\"].max()\n",
    "people_working_max_hours = data[data[\"hours.per.week\"] == max_hours]\n",
    "num_people_max_hours = len(people_working_max_hours)\n",
    "high_earners_max_hours = (len(people_working_max_hours[people_working_max_hours[\"income\"] == \">50K\"]) / num_people_max_hours) * 100\n",
    "\n",
    "print(\"Max hours per week: \", max_hours)\n",
    "print(\"Number of people working max hours: \", num_people_max_hours)\n",
    "print(\"Percentage of high earners among them: \",high_earners_max_hours)\n"
   ]
  }
 ],
 "metadata": {
  "kernelspec": {
   "display_name": "venv",
   "language": "python",
   "name": "python3"
  },
  "language_info": {
   "codemirror_mode": {
    "name": "ipython",
    "version": 3
   },
   "file_extension": ".py",
   "mimetype": "text/x-python",
   "name": "python",
   "nbconvert_exporter": "python",
   "pygments_lexer": "ipython3",
   "version": "3.13.1"
  }
 },
 "nbformat": 4,
 "nbformat_minor": 2
}
