{
 "cells": [
  {
   "cell_type": "markdown",
   "metadata": {},
   "source": [
    "Q.1. Data source-UCI adult dataset, also called as Census Income\n",
    "\n",
    "Link-UCI Machine Learning Repository: Adult Data Set\n",
    "\n",
    "Question-Predict whether income exceeds 550K/yr based on census"
   ]
  },
  {
   "cell_type": "markdown",
   "metadata": {},
   "source": [
    "1. Shape of database\n"
   ]
  },
  {
   "cell_type": "code",
   "execution_count": 57,
   "metadata": {},
   "outputs": [
    {
     "name": "stdout",
     "output_type": "stream",
     "text": [
      "       age workclass  fnlwgt     education  education.num      marital.status  \\\n",
      "0       90         ?   77053       HS-grad              9             Widowed   \n",
      "1       82   Private  132870       HS-grad              9             Widowed   \n",
      "2       66         ?  186061  Some-college             10             Widowed   \n",
      "3       54   Private  140359       7th-8th              4            Divorced   \n",
      "4       41   Private  264663  Some-college             10           Separated   \n",
      "...    ...       ...     ...           ...            ...                 ...   \n",
      "32556   22   Private  310152  Some-college             10       Never-married   \n",
      "32557   27   Private  257302    Assoc-acdm             12  Married-civ-spouse   \n",
      "32558   40   Private  154374       HS-grad              9  Married-civ-spouse   \n",
      "32559   58   Private  151910       HS-grad              9             Widowed   \n",
      "32560   22   Private  201490       HS-grad              9       Never-married   \n",
      "\n",
      "              occupation   relationship   race     sex  capital.gain  \\\n",
      "0                      ?  Not-in-family  White  Female             0   \n",
      "1        Exec-managerial  Not-in-family  White  Female             0   \n",
      "2                      ?      Unmarried  Black  Female             0   \n",
      "3      Machine-op-inspct      Unmarried  White  Female             0   \n",
      "4         Prof-specialty      Own-child  White  Female             0   \n",
      "...                  ...            ...    ...     ...           ...   \n",
      "32556    Protective-serv  Not-in-family  White    Male             0   \n",
      "32557       Tech-support           Wife  White  Female             0   \n",
      "32558  Machine-op-inspct        Husband  White    Male             0   \n",
      "32559       Adm-clerical      Unmarried  White  Female             0   \n",
      "32560       Adm-clerical      Own-child  White    Male             0   \n",
      "\n",
      "       capital.loss  hours.per.week native.country income  \n",
      "0              4356              40  United-States  <=50K  \n",
      "1              4356              18  United-States  <=50K  \n",
      "2              4356              40  United-States  <=50K  \n",
      "3              3900              40  United-States  <=50K  \n",
      "4              3900              40  United-States  <=50K  \n",
      "...             ...             ...            ...    ...  \n",
      "32556             0              40  United-States  <=50K  \n",
      "32557             0              38  United-States  <=50K  \n",
      "32558             0              40  United-States   >50K  \n",
      "32559             0              40  United-States  <=50K  \n",
      "32560             0              20  United-States  <=50K  \n",
      "\n",
      "[32561 rows x 15 columns]\n"
     ]
    }
   ],
   "source": [
    "import pandas as pd\n",
    "data=pd.read_csv(\"adult.csv\")\n",
    "print(data)"
   ]
  },
  {
   "cell_type": "code",
   "execution_count": 58,
   "metadata": {},
   "outputs": [
    {
     "name": "stdout",
     "output_type": "stream",
     "text": [
      "(32561, 15)\n"
     ]
    }
   ],
   "source": [
    "shape=data.shape\n",
    "print(shape)"
   ]
  },
  {
   "cell_type": "markdown",
   "metadata": {},
   "source": [
    "2. Print column names"
   ]
  },
  {
   "cell_type": "code",
   "execution_count": 59,
   "metadata": {},
   "outputs": [
    {
     "name": "stdout",
     "output_type": "stream",
     "text": [
      "['age', 'workclass', 'fnlwgt', 'education', 'education.num', 'marital.status', 'occupation', 'relationship', 'race', 'sex', 'capital.gain', 'capital.loss', 'hours.per.week', 'native.country', 'income']\n"
     ]
    }
   ],
   "source": [
    "columns = list(data.columns)\n",
    "print(columns)"
   ]
  },
  {
   "cell_type": "markdown",
   "metadata": {},
   "source": [
    "3. How many men and women (sex feature) are represented in this dataset.\n"
   ]
  },
  {
   "cell_type": "code",
   "execution_count": 60,
   "metadata": {},
   "outputs": [
    {
     "name": "stdout",
     "output_type": "stream",
     "text": [
      "The number of men and women represented in the dataset are:  sex\n",
      "Male      21790\n",
      "Female    10771\n",
      "Name: count, dtype: int64\n"
     ]
    }
   ],
   "source": [
    "gender_counts = data[\"sex\"].value_counts()\n",
    "print(\"The number of men and women represented in the dataset are: \",gender_counts)\n"
   ]
  },
  {
   "cell_type": "markdown",
   "metadata": {},
   "source": [
    "4. What is the average age (age feature) of women?\n"
   ]
  },
  {
   "cell_type": "code",
   "execution_count": 61,
   "metadata": {},
   "outputs": [
    {
     "name": "stdout",
     "output_type": "stream",
     "text": [
      "The average age of women: 36.85823043357163\n"
     ]
    }
   ],
   "source": [
    "female_data = data[data[\"sex\"] == \"Female\"]\n",
    "average_age_women = female_data[\"age\"].mean()\n",
    "print(\"The average age of women:\", average_age_women)"
   ]
  },
  {
   "cell_type": "markdown",
   "metadata": {},
   "source": [
    "5. What is the percentage of German citizens (native-country feature)?\n"
   ]
  },
  {
   "cell_type": "code",
   "execution_count": 62,
   "metadata": {},
   "outputs": [
    {
     "name": "stdout",
     "output_type": "stream",
     "text": [
      "The percentage of German Citizens: 0.42074874850281013\n"
     ]
    }
   ],
   "source": [
    "german_citizens = data[\"native.country\"].eq(\"Germany\").sum()\n",
    "total_entries = len(data)\n",
    "german_percentage = (german_citizens / total_entries) * 100\n",
    "print(\"The percentage of German Citizens:\", german_percentage)"
   ]
  },
  {
   "cell_type": "markdown",
   "metadata": {},
   "source": [
    "6. What are the mean and standard deviation of age for those who earn more than 50% per year (salary feature) and those who earn less than 50K per year?\n"
   ]
  },
  {
   "cell_type": "code",
   "execution_count": 63,
   "metadata": {},
   "outputs": [
    {
     "name": "stdout",
     "output_type": "stream",
     "text": [
      "Those earning more than 50k: \n",
      " mean    44.249841\n",
      "std     10.519028\n",
      "Name: age, dtype: float64\n",
      "\n",
      "Those earning less than 50k: \n",
      " mean    36.783738\n",
      "std     14.020088\n",
      "Name: age, dtype: float64\n"
     ]
    }
   ],
   "source": [
    "earning_more_50k = data[data[\"income\"] == \">50K\"]\n",
    "stats_earning_more_50k = earning_more_50k[\"age\"].agg([\"mean\", \"std\"])\n",
    "\n",
    "earning_less_50k = data[data[\"income\"] == \"<=50K\"]\n",
    "stats_earning_less_50k = earning_less_50k[\"age\"].agg([\"mean\", \"std\"])\n",
    "\n",
    "print(\"Those earning more than 50k: \\n\", stats_earning_more_50k)\n",
    "print(\"\\nThose earning less than 50k: \\n\", stats_earning_less_50k)\n"
   ]
  },
  {
   "cell_type": "markdown",
   "metadata": {},
   "source": [
    "7. Is it true that people who earn more than 50K have at least high school education? (education-Bachelors, Prof-school, Assoc-acdm, Assoc-voc, Masters or Doctorate feature)\n"
   ]
  },
  {
   "cell_type": "code",
   "execution_count": 64,
   "metadata": {},
   "outputs": [
    {
     "name": "stdout",
     "output_type": "stream",
     "text": [
      "All high earners have at least high school education: False\n"
     ]
    }
   ],
   "source": [
    "high_earning_education = data[data[\"income\"] == \">50K\"][\"education\"]\n",
    "high_school_levels = [\"Bachelors\", \"Prof-school\", \"Assoc-acdm\", \"Assoc-voc\", \"Masters\", \"Doctorate\"]\n",
    "\n",
    "all_have_high_school = high_earning_education.isin(high_school_levels).all()\n",
    "\n",
    "print(\"All high earners have at least high school education:\", all_have_high_school)\n"
   ]
  },
  {
   "cell_type": "markdown",
   "metadata": {},
   "source": [
    "8. Display age statistics for each race (race feature) and each gender (sex feature) Use groupby() and describe(). Find the maximum age of men of Amer-Indian-Eskimo race.\n"
   ]
  },
  {
   "cell_type": "code",
   "execution_count": 65,
   "metadata": {},
   "outputs": [
    {
     "name": "stdout",
     "output_type": "stream",
     "text": [
      "Age stats by race and gender: \n",
      "                              count       mean        std   min   25%   50%  \\\n",
      "race               sex                                                       \n",
      "Amer-Indian-Eskimo Female    119.0  37.117647  13.114991  17.0  27.0  36.0   \n",
      "                   Male      192.0  37.208333  12.049563  17.0  28.0  35.0   \n",
      "Asian-Pac-Islander Female    346.0  35.089595  12.300845  17.0  25.0  33.0   \n",
      "                   Male      693.0  39.073593  12.883944  18.0  29.0  37.0   \n",
      "Black              Female   1555.0  37.854019  12.637197  17.0  28.0  37.0   \n",
      "                   Male     1569.0  37.682600  12.882612  17.0  27.0  36.0   \n",
      "Other              Female    109.0  31.678899  11.631599  17.0  23.0  29.0   \n",
      "                   Male      162.0  34.654321  11.355531  17.0  26.0  32.0   \n",
      "White              Female   8642.0  36.811618  14.329093  17.0  25.0  35.0   \n",
      "                   Male    19174.0  39.652498  13.436029  17.0  29.0  38.0   \n",
      "\n",
      "                             75%   max  \n",
      "race               sex                  \n",
      "Amer-Indian-Eskimo Female  46.00  80.0  \n",
      "                   Male    45.00  82.0  \n",
      "Asian-Pac-Islander Female  43.75  75.0  \n",
      "                   Male    46.00  90.0  \n",
      "Black              Female  46.00  90.0  \n",
      "                   Male    46.00  90.0  \n",
      "Other              Female  39.00  74.0  \n",
      "                   Male    42.00  77.0  \n",
      "White              Female  46.00  90.0  \n",
      "                   Male    49.00  90.0  \n",
      "\n",
      "Max age of Amer-Indian-Eskimo men: 82\n"
     ]
    }
   ],
   "source": [
    "# Calculate age statistics by race and gender\n",
    "age_stats = data.groupby([\"race\", \"sex\"])[\"age\"].describe()\n",
    "\n",
    "# Find the maximum age of Amer-Indian-Eskimo men\n",
    "amer_indian_eskimo_men = data[(data[\"race\"] == \"Amer-Indian-Eskimo\") & (data[\"sex\"] == \"Male\")]\n",
    "max_age_amer_indian_eskimo_men = amer_indian_eskimo_men[\"age\"].max()\n",
    "\n",
    "# Print the results\n",
    "print(\"Age stats by race and gender: \\n\", age_stats)\n",
    "print(\"\\nMax age of Amer-Indian-Eskimo men:\", max_age_amer_indian_eskimo_men)\n"
   ]
  },
  {
   "cell_type": "markdown",
   "metadata": {},
   "source": [
    "9. Among whom is the proportion of those who earn a lot (>50K) greater, married or single men (marital-status feature)?Consider as married those who have a (marital-status feature) ? Consider as married those who have a marital-status status starting with Married (Married-civ-spouse, Married-spouse-absent or Married-AF-spouse), the rest are considered bachelors.\n"
   ]
  },
  {
   "cell_type": "code",
   "execution_count": 66,
   "metadata": {},
   "outputs": [
    {
     "name": "stdout",
     "output_type": "stream",
     "text": [
      "Proportion of high earners (married men): 0.4405139945351156\n",
      "Proportion of high earners (single men): 0.08449509031397745\n"
     ]
    }
   ],
   "source": [
    "# Group people as 'Married' or 'Single'\n",
    "marital_status_group = []\n",
    "for status in data[\"marital.status\"]:\n",
    "    if \"Married\" in status:\n",
    "        marital_status_group.append(\"Married\")\n",
    "    else:\n",
    "        marital_status_group.append(\"Single\")\n",
    "data[\"marital_status_group\"] = marital_status_group\n",
    "\n",
    "# Find all married and single men\n",
    "married_men = data[(data[\"sex\"] == \"Male\") & (data[\"marital_status_group\"] == \"Married\")]\n",
    "single_men = data[(data[\"sex\"] == \"Male\") & (data[\"marital_status_group\"] == \"Single\")]\n",
    "\n",
    "# Calculate high earners for married men\n",
    "if len(married_men) > 0:\n",
    "    married_high_earners = len(married_men[married_men[\"income\"] == \">50K\"]) / len(married_men)\n",
    "else:\n",
    "    married_high_earners = 0\n",
    "\n",
    "# Calculate high earners for single men\n",
    "if len(single_men) > 0:\n",
    "    single_high_earners = len(single_men[single_men[\"income\"] == \">50K\"]) / len(single_men)\n",
    "else:\n",
    "    single_high_earners = 0\n",
    "\n",
    "# Print results\n",
    "print(\"Proportion of high earners (married men):\", married_high_earners)\n",
    "print(\"Proportion of high earners (single men):\", single_high_earners)"
   ]
  },
  {
   "cell_type": "markdown",
   "metadata": {},
   "source": [
    "10. What is the maximum number of hours a person works per week (hours-per-week feature)? How many people work such a number of hours, and what is the percentage of those who earn a lot (>50K) among them?"
   ]
  },
  {
   "cell_type": "code",
   "execution_count": 67,
   "metadata": {},
   "outputs": [
    {
     "name": "stdout",
     "output_type": "stream",
     "text": [
      "Max hours per week: 99\n",
      "Number of people working max hours: 85\n",
      "Percentage of high earners among them: 29.411764705882355\n"
     ]
    }
   ],
   "source": [
    "# Find the maximum number of hours a person works per week\n",
    "max_hours = data[\"hours.per.week\"].max()\n",
    "\n",
    "# Filter the data for people who work the maximum number of hours\n",
    "people_working_max_hours = data[data[\"hours.per.week\"] == max_hours]\n",
    "\n",
    "# Count the number of people working the maximum hours\n",
    "num_people_max_hours = len(people_working_max_hours)\n",
    "\n",
    "# Calculate the percentage of high earners (>50K) among them\n",
    "if num_people_max_hours > 0:\n",
    "    high_earners_max_hours = (len(people_working_max_hours[people_working_max_hours[\"income\"] == \">50K\"])/ num_people_max_hours) * 100\n",
    "else:\n",
    "    high_earners_max_hours = 0\n",
    "\n",
    "# Print the results\n",
    "print(\"Max hours per week:\", max_hours)\n",
    "print(\"Number of people working max hours:\", num_people_max_hours)\n",
    "print(\"Percentage of high earners among them:\", high_earners_max_hours)\n",
    "\n"
   ]
  },
  {
   "cell_type": "markdown",
   "metadata": {},
   "source": [
    "Q.2. Dataset : College Placement Data \n",
    "\n",
    "Solve the following: "
   ]
  },
  {
   "cell_type": "markdown",
   "metadata": {},
   "source": [
    "1. Read the csv file and display first 10 records. "
   ]
  },
  {
   "cell_type": "code",
   "execution_count": 68,
   "metadata": {},
   "outputs": [
    {
     "data": {
      "text/html": [
       "<div>\n",
       "<style scoped>\n",
       "    .dataframe tbody tr th:only-of-type {\n",
       "        vertical-align: middle;\n",
       "    }\n",
       "\n",
       "    .dataframe tbody tr th {\n",
       "        vertical-align: top;\n",
       "    }\n",
       "\n",
       "    .dataframe thead th {\n",
       "        text-align: right;\n",
       "    }\n",
       "</style>\n",
       "<table border=\"1\" class=\"dataframe\">\n",
       "  <thead>\n",
       "    <tr style=\"text-align: right;\">\n",
       "      <th></th>\n",
       "      <th>city</th>\n",
       "      <th>cgpa</th>\n",
       "      <th>iq</th>\n",
       "      <th>placement</th>\n",
       "    </tr>\n",
       "  </thead>\n",
       "  <tbody>\n",
       "    <tr>\n",
       "      <th>0</th>\n",
       "      <td>New York</td>\n",
       "      <td>6.8</td>\n",
       "      <td>123.0</td>\n",
       "      <td>1</td>\n",
       "    </tr>\n",
       "    <tr>\n",
       "      <th>1</th>\n",
       "      <td>Los Angeles</td>\n",
       "      <td>5.9</td>\n",
       "      <td>106.0</td>\n",
       "      <td>0</td>\n",
       "    </tr>\n",
       "    <tr>\n",
       "      <th>2</th>\n",
       "      <td>Chicago</td>\n",
       "      <td>NaN</td>\n",
       "      <td>121.0</td>\n",
       "      <td>0</td>\n",
       "    </tr>\n",
       "    <tr>\n",
       "      <th>3</th>\n",
       "      <td>New York</td>\n",
       "      <td>7.4</td>\n",
       "      <td>132.0</td>\n",
       "      <td>1</td>\n",
       "    </tr>\n",
       "    <tr>\n",
       "      <th>4</th>\n",
       "      <td>Los Angeles</td>\n",
       "      <td>5.8</td>\n",
       "      <td>142.0</td>\n",
       "      <td>0</td>\n",
       "    </tr>\n",
       "    <tr>\n",
       "      <th>5</th>\n",
       "      <td>Chicago</td>\n",
       "      <td>7.1</td>\n",
       "      <td>48.0</td>\n",
       "      <td>1</td>\n",
       "    </tr>\n",
       "    <tr>\n",
       "      <th>6</th>\n",
       "      <td>New York</td>\n",
       "      <td>5.7</td>\n",
       "      <td>NaN</td>\n",
       "      <td>0</td>\n",
       "    </tr>\n",
       "    <tr>\n",
       "      <th>7</th>\n",
       "      <td>Los Angeles</td>\n",
       "      <td>5.0</td>\n",
       "      <td>63.0</td>\n",
       "      <td>0</td>\n",
       "    </tr>\n",
       "    <tr>\n",
       "      <th>8</th>\n",
       "      <td>Chicago</td>\n",
       "      <td>6.1</td>\n",
       "      <td>156.0</td>\n",
       "      <td>0</td>\n",
       "    </tr>\n",
       "    <tr>\n",
       "      <th>9</th>\n",
       "      <td>New York</td>\n",
       "      <td>5.1</td>\n",
       "      <td>66.0</td>\n",
       "      <td>0</td>\n",
       "    </tr>\n",
       "  </tbody>\n",
       "</table>\n",
       "</div>"
      ],
      "text/plain": [
       "          city  cgpa     iq  placement\n",
       "0     New York   6.8  123.0          1\n",
       "1  Los Angeles   5.9  106.0          0\n",
       "2      Chicago   NaN  121.0          0\n",
       "3     New York   7.4  132.0          1\n",
       "4  Los Angeles   5.8  142.0          0\n",
       "5      Chicago   7.1   48.0          1\n",
       "6     New York   5.7    NaN          0\n",
       "7  Los Angeles   5.0   63.0          0\n",
       "8      Chicago   6.1  156.0          0\n",
       "9     New York   5.1   66.0          0"
      ]
     },
     "execution_count": 68,
     "metadata": {},
     "output_type": "execute_result"
    }
   ],
   "source": [
    "import pandas as pd\n",
    "data=pd.read_csv(\"placement-dataset.csv\")\n",
    "data.head(10)"
   ]
  },
  {
   "cell_type": "markdown",
   "metadata": {},
   "source": [
    "2. Display all columns in it. "
   ]
  },
  {
   "cell_type": "code",
   "execution_count": 69,
   "metadata": {},
   "outputs": [
    {
     "data": {
      "text/plain": [
       "Index(['city', 'cgpa', 'iq', 'placement'], dtype='object')"
      ]
     },
     "execution_count": 69,
     "metadata": {},
     "output_type": "execute_result"
    }
   ],
   "source": [
    "data.columns"
   ]
  },
  {
   "cell_type": "markdown",
   "metadata": {},
   "source": [
    "3. Perform statistical analysis on it."
   ]
  },
  {
   "cell_type": "code",
   "execution_count": 70,
   "metadata": {},
   "outputs": [
    {
     "data": {
      "text/html": [
       "<div>\n",
       "<style scoped>\n",
       "    .dataframe tbody tr th:only-of-type {\n",
       "        vertical-align: middle;\n",
       "    }\n",
       "\n",
       "    .dataframe tbody tr th {\n",
       "        vertical-align: top;\n",
       "    }\n",
       "\n",
       "    .dataframe thead th {\n",
       "        text-align: right;\n",
       "    }\n",
       "</style>\n",
       "<table border=\"1\" class=\"dataframe\">\n",
       "  <thead>\n",
       "    <tr style=\"text-align: right;\">\n",
       "      <th></th>\n",
       "      <th>cgpa</th>\n",
       "      <th>iq</th>\n",
       "      <th>placement</th>\n",
       "    </tr>\n",
       "  </thead>\n",
       "  <tbody>\n",
       "    <tr>\n",
       "      <th>count</th>\n",
       "      <td>92.000000</td>\n",
       "      <td>96.000000</td>\n",
       "      <td>100.000000</td>\n",
       "    </tr>\n",
       "    <tr>\n",
       "      <th>mean</th>\n",
       "      <td>5.965217</td>\n",
       "      <td>117.916667</td>\n",
       "      <td>0.460000</td>\n",
       "    </tr>\n",
       "    <tr>\n",
       "      <th>std</th>\n",
       "      <td>1.164911</td>\n",
       "      <td>46.913508</td>\n",
       "      <td>0.500908</td>\n",
       "    </tr>\n",
       "    <tr>\n",
       "      <th>min</th>\n",
       "      <td>3.300000</td>\n",
       "      <td>1.000000</td>\n",
       "      <td>0.000000</td>\n",
       "    </tr>\n",
       "    <tr>\n",
       "      <th>25%</th>\n",
       "      <td>5.000000</td>\n",
       "      <td>90.000000</td>\n",
       "      <td>0.000000</td>\n",
       "    </tr>\n",
       "    <tr>\n",
       "      <th>50%</th>\n",
       "      <td>6.000000</td>\n",
       "      <td>122.000000</td>\n",
       "      <td>0.000000</td>\n",
       "    </tr>\n",
       "    <tr>\n",
       "      <th>75%</th>\n",
       "      <td>6.825000</td>\n",
       "      <td>146.750000</td>\n",
       "      <td>1.000000</td>\n",
       "    </tr>\n",
       "    <tr>\n",
       "      <th>max</th>\n",
       "      <td>8.500000</td>\n",
       "      <td>233.000000</td>\n",
       "      <td>1.000000</td>\n",
       "    </tr>\n",
       "  </tbody>\n",
       "</table>\n",
       "</div>"
      ],
      "text/plain": [
       "            cgpa          iq   placement\n",
       "count  92.000000   96.000000  100.000000\n",
       "mean    5.965217  117.916667    0.460000\n",
       "std     1.164911   46.913508    0.500908\n",
       "min     3.300000    1.000000    0.000000\n",
       "25%     5.000000   90.000000    0.000000\n",
       "50%     6.000000  122.000000    0.000000\n",
       "75%     6.825000  146.750000    1.000000\n",
       "max     8.500000  233.000000    1.000000"
      ]
     },
     "execution_count": 70,
     "metadata": {},
     "output_type": "execute_result"
    }
   ],
   "source": [
    "data.describe()"
   ]
  },
  {
   "cell_type": "markdown",
   "metadata": {},
   "source": [
    "4. Check for the missing and duplicated values. "
   ]
  },
  {
   "cell_type": "code",
   "execution_count": 71,
   "metadata": {},
   "outputs": [
    {
     "name": "stdout",
     "output_type": "stream",
     "text": [
      "Missing values in each column:\n",
      "city         0\n",
      "cgpa         8\n",
      "iq           4\n",
      "placement    0\n",
      "dtype: int64\n",
      "\n",
      "Number of duplicated rows: 1\n"
     ]
    }
   ],
   "source": [
    "# Check for missing values\n",
    "missing_values = data.isnull().sum()\n",
    "\n",
    "# Check for duplicated rows\n",
    "duplicated_rows = data.duplicated().sum()\n",
    "\n",
    "# Print results\n",
    "print(\"Missing values in each column:\")\n",
    "print(missing_values)\n",
    "print(\"\\nNumber of duplicated rows:\", duplicated_rows)"
   ]
  },
  {
   "cell_type": "markdown",
   "metadata": {},
   "source": [
    "5. Display average CGPA by city. "
   ]
  },
  {
   "cell_type": "code",
   "execution_count": 72,
   "metadata": {},
   "outputs": [
    {
     "name": "stdout",
     "output_type": "stream",
     "text": [
      "Average CGPA by city:\n",
      "city\n",
      "Chicago        6.017241\n",
      "Los Angeles    5.793333\n",
      "New York       6.075758\n",
      "Name: cgpa, dtype: float64\n"
     ]
    }
   ],
   "source": [
    "# Calculate the average CGPA for each city\n",
    "average_cgpa_by_city = data.groupby(\"city\")[\"cgpa\"].mean()\n",
    "\n",
    "# Print the results\n",
    "print(\"Average CGPA by city:\")\n",
    "print(average_cgpa_by_city)\n"
   ]
  },
  {
   "cell_type": "markdown",
   "metadata": {},
   "source": [
    "6. Display placement by city."
   ]
  },
  {
   "cell_type": "code",
   "execution_count": 73,
   "metadata": {},
   "outputs": [
    {
     "name": "stdout",
     "output_type": "stream",
     "text": [
      "Placement by city:\n",
      "city\n",
      "Chicago        15\n",
      "Los Angeles    13\n",
      "New York       18\n",
      "Name: placement, dtype: int64\n"
     ]
    }
   ],
   "source": [
    "# Count placements for each city\n",
    "placement_by_city = data.groupby(\"city\")[\"placement\"].sum()\n",
    "\n",
    "# Print the results\n",
    "print(\"Placement by city:\")\n",
    "print(placement_by_city)\n"
   ]
  },
  {
   "cell_type": "markdown",
   "metadata": {},
   "source": [
    "7. Display name of the city having highest CGPA"
   ]
  },
  {
   "cell_type": "code",
   "execution_count": 74,
   "metadata": {},
   "outputs": [
    {
     "name": "stdout",
     "output_type": "stream",
     "text": [
      "City with the highest CGPA: New York\n"
     ]
    }
   ],
   "source": [
    "# Find the maximum CGPA\n",
    "max_cgpa = data[\"cgpa\"].max()\n",
    "\n",
    "# Filter the rows where CGPA equals the maximum CGPA\n",
    "city_with_max_cgpa = data[data[\"cgpa\"] == max_cgpa]\n",
    "\n",
    "# Get the city name from the filtered rows\n",
    "highest_cgpa_city = city_with_max_cgpa[\"city\"].iloc[0]\n",
    "\n",
    "# Print the result\n",
    "print(\"City with the highest CGPA:\", highest_cgpa_city)"
   ]
  },
  {
   "cell_type": "markdown",
   "metadata": {},
   "source": [
    "8. Display the name of cities whose placement is 1"
   ]
  },
  {
   "cell_type": "code",
   "execution_count": 75,
   "metadata": {},
   "outputs": [
    {
     "name": "stdout",
     "output_type": "stream",
     "text": [
      "Cities with placement 1: ['New York' 'Chicago' 'Los Angeles']\n"
     ]
    }
   ],
   "source": [
    "# Filter rows where placement is 1\n",
    "placed_cities = data[data[\"placement\"] == 1]\n",
    "\n",
    "# Get the unique city names from the filtered rows\n",
    "unique_cities = placed_cities[\"city\"].unique()\n",
    "\n",
    "# Print the result\n",
    "print(\"Cities with placement 1:\", unique_cities)\n"
   ]
  },
  {
   "cell_type": "markdown",
   "metadata": {},
   "source": [
    "Q.3. Dataset: Student performance dataset \n",
    "\n",
    "Solve the following: "
   ]
  },
  {
   "cell_type": "markdown",
   "metadata": {},
   "source": [
    "1. Create a dictionary with the following details and convert it into \n",
    "dataframe. \n",
    "\"name\": ['Bulbasaur', 'Charmander','Squirtle','Caterpie'], \n",
    "“evolution\": ['Ivysaur','Charmeleon','Wartortle','Metapod'], \n",
    "\"type\": ['grass', 'fire', 'water', 'bug'], \n",
    "\"hp\": [45, 39, 44, 45], \n",
    "“pokedex\": ['yes', 'no','yes','no']"
   ]
  },
  {
   "cell_type": "code",
   "execution_count": 76,
   "metadata": {},
   "outputs": [
    {
     "name": "stdout",
     "output_type": "stream",
     "text": [
      "         name   evolution   type  hp pokedex\n",
      "0   Bulbasaur     Ivysaur  grass  45     yes\n",
      "1  Charmander  Charmeleon   fire  39      no\n",
      "2    Squirtle   Wartortle  water  44     yes\n",
      "3    Caterpie     Metapod    bug  45      no\n"
     ]
    }
   ],
   "source": [
    "import pandas as pd\n",
    "\n",
    "# Create a dictionary with the given details\n",
    "pokemon_data = {\n",
    "    \"name\": ['Bulbasaur', 'Charmander', 'Squirtle', 'Caterpie'],\n",
    "    \"evolution\": ['Ivysaur', 'Charmeleon', 'Wartortle', 'Metapod'],\n",
    "    \"type\": ['grass', 'fire', 'water', 'bug'],\n",
    "    \"hp\": [45, 39, 44, 45],\n",
    "    \"pokedex\": ['yes', 'no', 'yes', 'no']\n",
    "}\n",
    "\n",
    "# Convert the dictionary into a DataFrame\n",
    "pokemon_df = pd.DataFrame(pokemon_data)\n",
    "\n",
    "# Print the DataFrame\n",
    "print(pokemon_df)\n"
   ]
  },
  {
   "cell_type": "markdown",
   "metadata": {},
   "source": [
    "2. If the DataFrame columns are in alphabetical order, change the order of \n",
    "the columns as name, type, hp, evolution, pokedex "
   ]
  },
  {
   "cell_type": "code",
   "execution_count": 77,
   "metadata": {},
   "outputs": [
    {
     "name": "stdout",
     "output_type": "stream",
     "text": [
      "         name   type  hp   evolution pokedex\n",
      "0   Bulbasaur  grass  45     Ivysaur     yes\n",
      "1  Charmander   fire  39  Charmeleon      no\n",
      "2    Squirtle  water  44   Wartortle     yes\n",
      "3    Caterpie    bug  45     Metapod      no\n"
     ]
    }
   ],
   "source": [
    "# Reorder the DataFrame columns\n",
    "pokemon_df = pokemon_df[[\"name\", \"type\", \"hp\", \"evolution\", \"pokedex\"]]\n",
    "\n",
    "# Print the updated DataFrame\n",
    "print(pokemon_df)\n"
   ]
  },
  {
   "cell_type": "markdown",
   "metadata": {},
   "source": [
    "3. Add another column called place, and insert places (lakes, parks, hills, \n",
    "forest etc) of your choice"
   ]
  },
  {
   "cell_type": "code",
   "execution_count": 78,
   "metadata": {},
   "outputs": [
    {
     "name": "stdout",
     "output_type": "stream",
     "text": [
      "         name   type  hp   evolution pokedex   place\n",
      "0   Bulbasaur  grass  45     Ivysaur     yes  forest\n",
      "1  Charmander   fire  39  Charmeleon      no   hills\n",
      "2    Squirtle  water  44   Wartortle     yes   lakes\n",
      "3    Caterpie    bug  45     Metapod      no   parks\n"
     ]
    }
   ],
   "source": [
    "# Add a new column called 'place' with custom values\n",
    "pokemon_df[\"place\"] = [\"forest\", \"hills\", \"lakes\", \"parks\"]\n",
    "\n",
    "# Print the updated DataFrame\n",
    "print(pokemon_df)\n"
   ]
  },
  {
   "cell_type": "markdown",
   "metadata": {},
   "source": [
    "4. Display all columns and their datatypes."
   ]
  },
  {
   "cell_type": "code",
   "execution_count": 79,
   "metadata": {},
   "outputs": [
    {
     "name": "stdout",
     "output_type": "stream",
     "text": [
      "name         object\n",
      "type         object\n",
      "hp            int64\n",
      "evolution    object\n",
      "pokedex      object\n",
      "place        object\n",
      "dtype: object\n"
     ]
    }
   ],
   "source": [
    "# Display all columns and their data types\n",
    "print(pokemon_df.dtypes)\n"
   ]
  },
  {
   "cell_type": "markdown",
   "metadata": {},
   "source": [
    "5. Display all the names whose pokedex status is “yes” \n"
   ]
  },
  {
   "cell_type": "code",
   "execution_count": 80,
   "metadata": {},
   "outputs": [
    {
     "name": "stdout",
     "output_type": "stream",
     "text": [
      "Names with pokedex status 'yes':\n",
      "0    Bulbasaur\n",
      "2     Squirtle\n",
      "Name: name, dtype: object\n"
     ]
    }
   ],
   "source": [
    "# Filter rows where pokedex is \"yes\"\n",
    "names_with_pokedex_yes = pokemon_df[pokemon_df[\"pokedex\"] == \"yes\"][\"name\"]\n",
    "\n",
    "# Print the result\n",
    "print(\"Names with pokedex status 'yes':\")\n",
    "print(names_with_pokedex_yes)"
   ]
  },
  {
   "cell_type": "markdown",
   "metadata": {},
   "source": [
    "6. Display all names whose hp is in between 40 to 45 and type will be either \n",
    "fire or water "
   ]
  },
  {
   "cell_type": "code",
   "execution_count": 81,
   "metadata": {},
   "outputs": [
    {
     "name": "stdout",
     "output_type": "stream",
     "text": [
      "Names with hp between 40 to 45 and type as fire or water:\n",
      "2    Squirtle\n",
      "Name: name, dtype: object\n"
     ]
    }
   ],
   "source": [
    "# Filter rows based on hp and type conditions\n",
    "filtered_names = pokemon_df[(pokemon_df[\"hp\"].between(40, 45)) & \n",
    "                            (pokemon_df[\"type\"].isin([\"fire\", \"water\"]))][\"name\"]\n",
    "\n",
    "# Print the result\n",
    "print(\"Names with hp between 40 to 45 and type as fire or water:\")\n",
    "print(filtered_names)"
   ]
  },
  {
   "cell_type": "markdown",
   "metadata": {},
   "source": [
    "7. Convert the column pokedex into 1’s and 0’s."
   ]
  },
  {
   "cell_type": "code",
   "execution_count": 82,
   "metadata": {},
   "outputs": [
    {
     "name": "stdout",
     "output_type": "stream",
     "text": [
      "         name   type  hp   evolution  pokedex   place\n",
      "0   Bulbasaur  grass  45     Ivysaur        1  forest\n",
      "1  Charmander   fire  39  Charmeleon        0   hills\n",
      "2    Squirtle  water  44   Wartortle        1   lakes\n",
      "3    Caterpie    bug  45     Metapod        0   parks\n"
     ]
    }
   ],
   "source": [
    "# Convert the 'pokedex' column to 1's and 0's\n",
    "pokemon_df[\"pokedex\"] = pokemon_df[\"pokedex\"].map({\"yes\": 1, \"no\": 0})\n",
    "\n",
    "# Print the updated DataFrame\n",
    "print(pokemon_df)\n"
   ]
  },
  {
   "cell_type": "markdown",
   "metadata": {},
   "source": [
    "Q.4. Dataset: Online food order prediction "
   ]
  },
  {
   "cell_type": "markdown",
   "metadata": {},
   "source": [
    "1) Who orders food more ? Married or single( Make use of pie chart ) "
   ]
  },
  {
   "cell_type": "code",
   "execution_count": 83,
   "metadata": {},
   "outputs": [
    {
     "data": {
      "text/html": [
       "<div>\n",
       "<style scoped>\n",
       "    .dataframe tbody tr th:only-of-type {\n",
       "        vertical-align: middle;\n",
       "    }\n",
       "\n",
       "    .dataframe tbody tr th {\n",
       "        vertical-align: top;\n",
       "    }\n",
       "\n",
       "    .dataframe thead th {\n",
       "        text-align: right;\n",
       "    }\n",
       "</style>\n",
       "<table border=\"1\" class=\"dataframe\">\n",
       "  <thead>\n",
       "    <tr style=\"text-align: right;\">\n",
       "      <th></th>\n",
       "      <th>Age</th>\n",
       "      <th>Gender</th>\n",
       "      <th>Marital Status</th>\n",
       "      <th>Occupation</th>\n",
       "      <th>Monthly Income</th>\n",
       "      <th>Educational Qualifications</th>\n",
       "      <th>Family size</th>\n",
       "      <th>latitude</th>\n",
       "      <th>longitude</th>\n",
       "      <th>Pin code</th>\n",
       "      <th>Output</th>\n",
       "      <th>Feedback</th>\n",
       "      <th>Unnamed: 12</th>\n",
       "    </tr>\n",
       "  </thead>\n",
       "  <tbody>\n",
       "    <tr>\n",
       "      <th>0</th>\n",
       "      <td>20</td>\n",
       "      <td>Female</td>\n",
       "      <td>Single</td>\n",
       "      <td>Student</td>\n",
       "      <td>No Income</td>\n",
       "      <td>Post Graduate</td>\n",
       "      <td>4</td>\n",
       "      <td>12.9766</td>\n",
       "      <td>77.5993</td>\n",
       "      <td>560001</td>\n",
       "      <td>Yes</td>\n",
       "      <td>Positive</td>\n",
       "      <td>Yes</td>\n",
       "    </tr>\n",
       "    <tr>\n",
       "      <th>1</th>\n",
       "      <td>24</td>\n",
       "      <td>Female</td>\n",
       "      <td>Single</td>\n",
       "      <td>Student</td>\n",
       "      <td>Below Rs.10000</td>\n",
       "      <td>Graduate</td>\n",
       "      <td>3</td>\n",
       "      <td>12.9770</td>\n",
       "      <td>77.5773</td>\n",
       "      <td>560009</td>\n",
       "      <td>Yes</td>\n",
       "      <td>Positive</td>\n",
       "      <td>Yes</td>\n",
       "    </tr>\n",
       "    <tr>\n",
       "      <th>2</th>\n",
       "      <td>22</td>\n",
       "      <td>Male</td>\n",
       "      <td>Single</td>\n",
       "      <td>Student</td>\n",
       "      <td>Below Rs.10000</td>\n",
       "      <td>Post Graduate</td>\n",
       "      <td>3</td>\n",
       "      <td>12.9551</td>\n",
       "      <td>77.6593</td>\n",
       "      <td>560017</td>\n",
       "      <td>Yes</td>\n",
       "      <td>Negative</td>\n",
       "      <td>Yes</td>\n",
       "    </tr>\n",
       "    <tr>\n",
       "      <th>3</th>\n",
       "      <td>22</td>\n",
       "      <td>Female</td>\n",
       "      <td>Single</td>\n",
       "      <td>Student</td>\n",
       "      <td>No Income</td>\n",
       "      <td>Graduate</td>\n",
       "      <td>6</td>\n",
       "      <td>12.9473</td>\n",
       "      <td>77.5616</td>\n",
       "      <td>560019</td>\n",
       "      <td>Yes</td>\n",
       "      <td>Positive</td>\n",
       "      <td>Yes</td>\n",
       "    </tr>\n",
       "    <tr>\n",
       "      <th>4</th>\n",
       "      <td>22</td>\n",
       "      <td>Male</td>\n",
       "      <td>Single</td>\n",
       "      <td>Student</td>\n",
       "      <td>Below Rs.10000</td>\n",
       "      <td>Post Graduate</td>\n",
       "      <td>4</td>\n",
       "      <td>12.9850</td>\n",
       "      <td>77.5533</td>\n",
       "      <td>560010</td>\n",
       "      <td>Yes</td>\n",
       "      <td>Positive</td>\n",
       "      <td>Yes</td>\n",
       "    </tr>\n",
       "    <tr>\n",
       "      <th>...</th>\n",
       "      <td>...</td>\n",
       "      <td>...</td>\n",
       "      <td>...</td>\n",
       "      <td>...</td>\n",
       "      <td>...</td>\n",
       "      <td>...</td>\n",
       "      <td>...</td>\n",
       "      <td>...</td>\n",
       "      <td>...</td>\n",
       "      <td>...</td>\n",
       "      <td>...</td>\n",
       "      <td>...</td>\n",
       "      <td>...</td>\n",
       "    </tr>\n",
       "    <tr>\n",
       "      <th>383</th>\n",
       "      <td>23</td>\n",
       "      <td>Female</td>\n",
       "      <td>Single</td>\n",
       "      <td>Student</td>\n",
       "      <td>No Income</td>\n",
       "      <td>Post Graduate</td>\n",
       "      <td>2</td>\n",
       "      <td>12.9766</td>\n",
       "      <td>77.5993</td>\n",
       "      <td>560001</td>\n",
       "      <td>Yes</td>\n",
       "      <td>Positive</td>\n",
       "      <td>Yes</td>\n",
       "    </tr>\n",
       "    <tr>\n",
       "      <th>384</th>\n",
       "      <td>23</td>\n",
       "      <td>Female</td>\n",
       "      <td>Single</td>\n",
       "      <td>Student</td>\n",
       "      <td>No Income</td>\n",
       "      <td>Post Graduate</td>\n",
       "      <td>4</td>\n",
       "      <td>12.9854</td>\n",
       "      <td>77.7081</td>\n",
       "      <td>560048</td>\n",
       "      <td>Yes</td>\n",
       "      <td>Positive</td>\n",
       "      <td>Yes</td>\n",
       "    </tr>\n",
       "    <tr>\n",
       "      <th>385</th>\n",
       "      <td>22</td>\n",
       "      <td>Female</td>\n",
       "      <td>Single</td>\n",
       "      <td>Student</td>\n",
       "      <td>No Income</td>\n",
       "      <td>Post Graduate</td>\n",
       "      <td>5</td>\n",
       "      <td>12.9850</td>\n",
       "      <td>77.5533</td>\n",
       "      <td>560010</td>\n",
       "      <td>Yes</td>\n",
       "      <td>Positive</td>\n",
       "      <td>Yes</td>\n",
       "    </tr>\n",
       "    <tr>\n",
       "      <th>386</th>\n",
       "      <td>23</td>\n",
       "      <td>Male</td>\n",
       "      <td>Single</td>\n",
       "      <td>Student</td>\n",
       "      <td>Below Rs.10000</td>\n",
       "      <td>Post Graduate</td>\n",
       "      <td>2</td>\n",
       "      <td>12.9770</td>\n",
       "      <td>77.5773</td>\n",
       "      <td>560009</td>\n",
       "      <td>Yes</td>\n",
       "      <td>Positive</td>\n",
       "      <td>Yes</td>\n",
       "    </tr>\n",
       "    <tr>\n",
       "      <th>387</th>\n",
       "      <td>23</td>\n",
       "      <td>Male</td>\n",
       "      <td>Single</td>\n",
       "      <td>Student</td>\n",
       "      <td>No Income</td>\n",
       "      <td>Post Graduate</td>\n",
       "      <td>5</td>\n",
       "      <td>12.8988</td>\n",
       "      <td>77.5764</td>\n",
       "      <td>560078</td>\n",
       "      <td>Yes</td>\n",
       "      <td>Positive</td>\n",
       "      <td>Yes</td>\n",
       "    </tr>\n",
       "  </tbody>\n",
       "</table>\n",
       "<p>388 rows × 13 columns</p>\n",
       "</div>"
      ],
      "text/plain": [
       "     Age  Gender Marital Status Occupation  Monthly Income  \\\n",
       "0     20  Female         Single    Student       No Income   \n",
       "1     24  Female         Single    Student  Below Rs.10000   \n",
       "2     22    Male         Single    Student  Below Rs.10000   \n",
       "3     22  Female         Single    Student       No Income   \n",
       "4     22    Male         Single    Student  Below Rs.10000   \n",
       "..   ...     ...            ...        ...             ...   \n",
       "383   23  Female         Single    Student       No Income   \n",
       "384   23  Female         Single    Student       No Income   \n",
       "385   22  Female         Single    Student       No Income   \n",
       "386   23    Male         Single    Student  Below Rs.10000   \n",
       "387   23    Male         Single    Student       No Income   \n",
       "\n",
       "    Educational Qualifications  Family size  latitude  longitude  Pin code  \\\n",
       "0                Post Graduate            4   12.9766    77.5993    560001   \n",
       "1                     Graduate            3   12.9770    77.5773    560009   \n",
       "2                Post Graduate            3   12.9551    77.6593    560017   \n",
       "3                     Graduate            6   12.9473    77.5616    560019   \n",
       "4                Post Graduate            4   12.9850    77.5533    560010   \n",
       "..                         ...          ...       ...        ...       ...   \n",
       "383              Post Graduate            2   12.9766    77.5993    560001   \n",
       "384              Post Graduate            4   12.9854    77.7081    560048   \n",
       "385              Post Graduate            5   12.9850    77.5533    560010   \n",
       "386              Post Graduate            2   12.9770    77.5773    560009   \n",
       "387              Post Graduate            5   12.8988    77.5764    560078   \n",
       "\n",
       "    Output   Feedback Unnamed: 12  \n",
       "0      Yes   Positive         Yes  \n",
       "1      Yes   Positive         Yes  \n",
       "2      Yes  Negative          Yes  \n",
       "3      Yes   Positive         Yes  \n",
       "4      Yes   Positive         Yes  \n",
       "..     ...        ...         ...  \n",
       "383    Yes   Positive         Yes  \n",
       "384    Yes   Positive         Yes  \n",
       "385    Yes   Positive         Yes  \n",
       "386    Yes   Positive         Yes  \n",
       "387    Yes   Positive         Yes  \n",
       "\n",
       "[388 rows x 13 columns]"
      ]
     },
     "execution_count": 83,
     "metadata": {},
     "output_type": "execute_result"
    }
   ],
   "source": [
    "import pandas as pd\n",
    "data=pd.read_csv(\"onlinefoods.csv\")\n",
    "data"
   ]
  },
  {
   "cell_type": "code",
   "execution_count": 84,
   "metadata": {},
   "outputs": [
    {
     "data": {
      "image/png": "[encoded data removed]",
      "text/plain": [
       "<Figure size 640x480 with 1 Axes>"
      ]
     },
     "metadata": {},
     "output_type": "display_data"
    }
   ],
   "source": [
    "import matplotlib.pyplot as plt\n",
    "\n",
    "# Count food orders based on marital status\n",
    "order_counts = data[\"Marital Status\"].value_counts()\n",
    "\n",
    "# Plot the pie chart\n",
    "order_counts.plot.pie(autopct='%1.1f%%', labels=order_counts.index, startangle=90)\n",
    "\n",
    "# Add title\n",
    "plt.title(\"Food Orders by Marital Status\")\n",
    "plt.show()"
   ]
  },
  {
   "cell_type": "markdown",
   "metadata": {},
   "source": [
    "Food orders by Marital Status-- In this graph, single people orders more food than the married ones."
   ]
  },
  {
   "cell_type": "markdown",
   "metadata": {},
   "source": [
    "2. Analyze food ordering behavior across Income Levels. ( Make use of \n",
    "pie chart )"
   ]
  },
  {
   "cell_type": "code",
   "execution_count": 85,
   "metadata": {},
   "outputs": [
    {
     "data": {
      "image/png": "[encoded data removed]",
      "text/plain": [
       "<Figure size 640x480 with 1 Axes>"
      ]
     },
     "metadata": {},
     "output_type": "display_data"
    }
   ],
   "source": [
    "import pandas as pd\n",
    "import matplotlib.pyplot as plt\n",
    "\n",
    "# Count food orders based on income levels\n",
    "income_counts = data[\"Monthly Income\"].value_counts()\n",
    "\n",
    "# Plot the pie chart\n",
    "income_counts.plot.pie(\n",
    "    autopct='%1.1f%%', \n",
    "    labels=income_counts.index, \n",
    "    startangle=90\n",
    ")\n",
    "\n",
    "# Add title\n",
    "plt.title(\"Food Ordering Behavior Across Income Levels\")\n",
    "plt.show()"
   ]
  },
  {
   "cell_type": "markdown",
   "metadata": {},
   "source": [
    "Food ordering behavior across income levels - people are ordering food those whoever has no income"
   ]
  },
  {
   "cell_type": "markdown",
   "metadata": {},
   "source": [
    "3. Display Food ordering patterns based on family size. ( Make use of pie \n",
    "chart ) "
   ]
  },
  {
   "cell_type": "code",
   "execution_count": 86,
   "metadata": {},
   "outputs": [
    {
     "data": {
      "image/png": "[encoded data removed]",
      "text/plain": [
       "<Figure size 640x480 with 1 Axes>"
      ]
     },
     "metadata": {},
     "output_type": "display_data"
    }
   ],
   "source": [
    "import pandas as pd\n",
    "import matplotlib.pyplot as plt\n",
    "\n",
    "# Count food orders based on family size\n",
    "family_size_counts = data[\"Family size\"].value_counts()\n",
    "\n",
    "# Plot the pie chart\n",
    "family_size_counts.plot.pie(\n",
    "    autopct='%1.1f%%', \n",
    "    labels=family_size_counts.index, \n",
    "    startangle=90\n",
    ")\n",
    "\n",
    "# Add title\n",
    "plt.title(\"Food Ordering Patterns Based on Family Size\")\n",
    "plt.show()"
   ]
  },
  {
   "cell_type": "markdown",
   "metadata": {},
   "source": [
    "Family size with 2 or 3 ordering the more food."
   ]
  },
  {
   "cell_type": "markdown",
   "metadata": {},
   "source": [
    "4. Display the count of customers based on qualification, who orders \n",
    "online food.(Make use of bar chart) "
   ]
  },
  {
   "cell_type": "code",
   "execution_count": 87,
   "metadata": {},
   "outputs": [
    {
     "data": {
      "image/png": "[encoded data removed]",
      "text/plain": [
       "<Figure size 640x480 with 1 Axes>"
      ]
     },
     "metadata": {},
     "output_type": "display_data"
    }
   ],
   "source": [
    "import pandas as pd\n",
    "import matplotlib.pyplot as plt\n",
    "\n",
    "# Count customers based on educational qualifications\n",
    "qualification_counts = data[\"Educational Qualifications\"].value_counts()\n",
    "\n",
    "# Plot the bar chart\n",
    "plt.bar(qualification_counts.index, qualification_counts.values, color='skyblue')\n",
    "\n",
    "# Add labels and title\n",
    "plt.xlabel(\"Educational Qualifications\")\n",
    "plt.ylabel(\"Count of Customers\")\n",
    "plt.title(\"Count of Customers Ordering Food by Qualification\")\n",
    "plt.xticks(rotation=45)  # Rotate x-axis labels for better readability\n",
    "plt.tight_layout()\n",
    "\n",
    "# Show the plot\n",
    "plt.show()"
   ]
  },
  {
   "cell_type": "markdown",
   "metadata": {},
   "source": [
    "Graduate and Post Graduate people are ordering more food.\n"
   ]
  },
  {
   "cell_type": "markdown",
   "metadata": {},
   "source": [
    "5. Count total number of Positive feedback and Negative feedback also \n",
    "visualize it."
   ]
  },
  {
   "cell_type": "code",
   "execution_count": 88,
   "metadata": {},
   "outputs": [
    {
     "name": "stdout",
     "output_type": "stream",
     "text": [
      "Feedback Counts:\n",
      "Feedback\n",
      "Positive     317\n",
      "Negative      71\n",
      "Name: count, dtype: int64\n"
     ]
    },
    {
     "data": {
      "image/png": "[encoded data removed]",
      "text/plain": [
       "<Figure size 640x480 with 1 Axes>"
      ]
     },
     "metadata": {},
     "output_type": "display_data"
    }
   ],
   "source": [
    "import pandas as pd\n",
    "import matplotlib.pyplot as plt\n",
    "\n",
    "# Count feedback types\n",
    "feedback_counts = data[\"Feedback\"].value_counts()\n",
    "\n",
    "# Print the counts\n",
    "print(\"Feedback Counts:\")\n",
    "print(feedback_counts)\n",
    "\n",
    "# Visualize with a bar chart\n",
    "plt.bar(feedback_counts.index, feedback_counts.values, color=['green', 'red'])\n",
    "\n",
    "# Add labels and title\n",
    "plt.xlabel(\"Feedback Type\")\n",
    "plt.ylabel(\"Count\")\n",
    "plt.title(\"Total Positive and Negative Feedback\")\n",
    "plt.tight_layout()\n",
    "\n",
    "# Show the plot\n",
    "plt.show()"
   ]
  },
  {
   "cell_type": "markdown",
   "metadata": {},
   "source": [
    "There are more positive feedback than the negative ones."
   ]
  }
 ],
 "metadata": {
  "kernelspec": {
   "display_name": "Python 3",
   "language": "python",
   "name": "python3"
  },
  "language_info": {
   "codemirror_mode": {
    "name": "ipython",
    "version": 3
   },
   "file_extension": ".py",
   "mimetype": "text/x-python",
   "name": "python",
   "nbconvert_exporter": "python",
   "pygments_lexer": "ipython3",
   "version": "3.13.1"
  }
 },
 "nbformat": 4,
 "nbformat_minor": 2
}
